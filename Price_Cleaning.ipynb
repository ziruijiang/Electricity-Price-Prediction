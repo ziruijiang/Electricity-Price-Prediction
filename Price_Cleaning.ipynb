{
 "cells": [
  {
   "cell_type": "code",
   "execution_count": 125,
   "metadata": {
    "collapsed": true
   },
   "outputs": [],
   "source": [
    "import csv\n",
    "import numpy as np\n",
    "import pandas as pd\n",
    "from datetime import datetime\n",
    "from matplotlib import pyplot as plt"
   ]
  },
  {
   "cell_type": "code",
   "execution_count": 126,
   "metadata": {
    "collapsed": true
   },
   "outputs": [],
   "source": [
    "# January Data\n",
    "file_LAPrice1 = '20170101_20170111_PRC_LMP_DAM_20180321_18_27_14_v1.csv'\n",
    "LAPrice1 = pd.read_csv(file_LAPrice1,index_col=0, usecols=[0,10,14], parse_dates=[0])\n",
    "LAPrice1 = LAPrice1[LAPrice1['XML_DATA_ITEM']=='LMP_PRC']\n",
    "LAPrice1.index = pd.to_datetime(LAPrice1.index)\n",
    "LAPrice1.index = LAPrice1.index.tz_localize('US/Pacific')\n",
    "LAPrice1 = LAPrice1.sort_index()\n",
    "file_LAPrice2 = '20170101_20170115_PRC_LMP_DAM_20180321_18_31_35_v1.csv'\n",
    "LAPrice2 = pd.read_csv(file_LAPrice2,index_col=0, usecols=[0,10,14], parse_dates=[0])\n",
    "LAPrice2 = LAPrice2[LAPrice2['XML_DATA_ITEM']=='LMP_PRC']\n",
    "LAPrice2.index = pd.to_datetime(LAPrice2.index)\n",
    "LAPrice2.index = LAPrice2.index.tz_localize('US/Pacific')\n",
    "LAPrice2 = LAPrice2.sort_index()\n",
    "file_LAPrice3 = '20170101_20170116_PRC_LMP_DAM_20180324_22_59_05_v1.csv'\n",
    "LAPrice3 = pd.read_csv(file_LAPrice3,index_col=0, usecols=[0,10,14], parse_dates=[0])\n",
    "LAPrice3 = LAPrice3[LAPrice3['XML_DATA_ITEM']=='LMP_PRC']\n",
    "LAPrice3.index = pd.to_datetime(LAPrice3.index)\n",
    "LAPrice3.index = LAPrice3.index.tz_localize('US/Pacific')\n",
    "LAPrice3 = LAPrice3.sort_index()\n",
    "file_LAPrice4 = '20170101_20170116_PRC_LMP_DAM_20180324_23_02_29_v1.csv'\n",
    "LAPrice4 = pd.read_csv(file_LAPrice4,index_col=0, usecols=[0,10,14], parse_dates=[0])\n",
    "LAPrice4 = LAPrice4[LAPrice4['XML_DATA_ITEM']=='LMP_PRC']\n",
    "LAPrice4.index = pd.to_datetime(LAPrice4.index)\n",
    "LAPrice4.index = LAPrice4.index.tz_localize('US/Pacific')\n",
    "LAPrice4 = LAPrice4.sort_index()\n",
    "file_LAPrice5 = '20170101_20170116_PRC_LMP_DAM_20180324_23_25_30_v1.csv'\n",
    "LAPrice5 = pd.read_csv(file_LAPrice5,index_col=0, usecols=[0,10,14], parse_dates=[0])\n",
    "LAPrice5 = LAPrice5[LAPrice5['XML_DATA_ITEM']=='LMP_PRC']\n",
    "LAPrice5.index = pd.to_datetime(LAPrice5.index)\n",
    "LAPrice5.index = LAPrice5.index.tz_localize('US/Pacific')\n",
    "LAPrice5 = LAPrice5.sort_index()\n",
    "LAPrice5.head()\n",
    "combined_LA = LAPrice1.join(LAPrice2.reindex(LAPrice1.index, method='nearest')['MW'],lsuffix = '2')\n",
    "combined_LA = combined_LA.join(LAPrice3.reindex(combined_LA.index.unique(), method='nearest')['MW'],lsuffix = '3')\n",
    "combined_LA = combined_LA.join(LAPrice4.reindex(combined_LA.index.unique(), method='nearest')['MW'],lsuffix = '4')\n",
    "combined_LA = combined_LA.join(LAPrice5.reindex(combined_LA.index.unique(), method='nearest')['MW'],lsuffix = '5')\n",
    "combined_LA.drop( ['XML_DATA_ITEM'], axis = 1, inplace = True)\n",
    "combined_LA = combined_LA.mean(axis = 1).to_frame(name='LMP')"
   ]
  },
  {
   "cell_type": "code",
   "execution_count": 127,
   "metadata": {
    "collapsed": true
   },
   "outputs": [],
   "source": [
    "# Olinda\n",
    "file_OlindaPrice4 = 'Olinda_04.csv'\n",
    "OlindaPrice4 = pd.read_csv(file_OlindaPrice4,index_col=0, usecols=[0,10,14], parse_dates=[0])\n",
    "OlindaPrice4 = OlindaPrice4[OlindaPrice4['XML_DATA_ITEM']=='LMP_PRC']\n",
    "OlindaPrice4.index = pd.to_datetime(OlindaPrice4.index)\n",
    "OlindaPrice4.index = OlindaPrice4.index.tz_localize('US/Pacific')\n",
    "OlindaPrice4 = OlindaPrice4.sort_index()\n",
    "\n",
    "file_OlindaPrice7 = 'Olinda_07.csv'\n",
    "OlindaPrice7 = pd.read_csv(file_OlindaPrice7,index_col=0, usecols=[0,10,14], parse_dates=[0])\n",
    "OlindaPrice7 = OlindaPrice7[OlindaPrice7['XML_DATA_ITEM']=='LMP_PRC']\n",
    "OlindaPrice7.index = pd.to_datetime(OlindaPrice7.index)\n",
    "OlindaPrice7.index = OlindaPrice7.index.tz_localize('US/Pacific')\n",
    "OlindaPrice7 = OlindaPrice7.sort_index()\n",
    "\n",
    "file_OlindaPrice10 = 'Olinda_10.csv'\n",
    "OlindaPrice10 = pd.read_csv(file_OlindaPrice10,index_col=0, usecols=[0,10,14], parse_dates=[0])\n",
    "OlindaPrice10 = OlindaPrice10[OlindaPrice10['XML_DATA_ITEM']=='LMP_PRC']\n",
    "OlindaPrice10.index = pd.to_datetime(OlindaPrice10.index)\n",
    "OlindaPrice10.index = OlindaPrice10.index.tz_localize('US/Pacific')\n",
    "OlindaPrice10 = OlindaPrice10.sort_index()\n",
    "\n",
    "Olinda = [OlindaPrice4, OlindaPrice7, OlindaPrice10]\n",
    "\n",
    "Olinda = pd.concat(Olinda)"
   ]
  },
  {
   "cell_type": "code",
   "execution_count": 128,
   "metadata": {
    "collapsed": true
   },
   "outputs": [],
   "source": [
    "# ElSegundo\n",
    "file_ElsegPrice4 = 'Elseg_04.csv'\n",
    "ElsegPrice4 = pd.read_csv(file_ElsegPrice4,index_col=0, usecols=[0,10,14], parse_dates=[0])\n",
    "ElsegPrice4 = ElsegPrice4[ElsegPrice4['XML_DATA_ITEM']=='LMP_PRC']\n",
    "ElsegPrice4.index = pd.to_datetime(ElsegPrice4.index)\n",
    "ElsegPrice4.index = ElsegPrice4.index.tz_localize('US/Pacific')\n",
    "ElsegPrice4 = ElsegPrice4.sort_index()\n",
    "\n",
    "file_ElsegPrice7 = 'Elseg_07.csv'\n",
    "ElsegPrice7 = pd.read_csv(file_ElsegPrice7,index_col=0, usecols=[0,10,14], parse_dates=[0])\n",
    "ElsegPrice7 = ElsegPrice7[ElsegPrice7['XML_DATA_ITEM']=='LMP_PRC']\n",
    "ElsegPrice7.index = pd.to_datetime(ElsegPrice7.index)\n",
    "ElsegPrice7.index = ElsegPrice7.index.tz_localize('US/Pacific')\n",
    "ElsegPrice7 = ElsegPrice7.sort_index()\n",
    "\n",
    "file_ElsegPrice10 = 'Elseg_10.csv'\n",
    "ElsegPrice10 = pd.read_csv(file_ElsegPrice10,index_col=0, usecols=[0,10,14], parse_dates=[0])\n",
    "ElsegPrice10 = ElsegPrice10[ElsegPrice10['XML_DATA_ITEM']=='LMP_PRC']\n",
    "ElsegPrice10.index = pd.to_datetime(ElsegPrice10.index)\n",
    "ElsegPrice10.index = ElsegPrice10.index.tz_localize('US/Pacific')\n",
    "ElsegPrice10 = ElsegPrice10.sort_index()\n",
    "\n",
    "Elseg = [ElsegPrice4, ElsegPrice7, ElsegPrice10]\n",
    "\n",
    "Elseg = pd.concat(Elseg)"
   ]
  },
  {
   "cell_type": "code",
   "execution_count": 129,
   "metadata": {
    "collapsed": true
   },
   "outputs": [],
   "source": [
    "# Redon\n",
    "file_RedonPrice4 = 'Redon_04.csv'\n",
    "RedonPrice4 = pd.read_csv(file_RedonPrice4,index_col=0, usecols=[0,10,14], parse_dates=[0])\n",
    "RedonPrice4 = RedonPrice4[RedonPrice4['XML_DATA_ITEM']=='LMP_PRC']\n",
    "RedonPrice4.index = pd.to_datetime(RedonPrice4.index)\n",
    "RedonPrice4.index = RedonPrice4.index.tz_localize('US/Pacific')\n",
    "RedonPrice4 = RedonPrice4.sort_index()\n",
    "\n",
    "file_RedonPrice7 = 'Redon_07.csv'\n",
    "RedonPrice7 = pd.read_csv(file_RedonPrice7,index_col=0, usecols=[0,10,14], parse_dates=[0])\n",
    "RedonPrice7 = RedonPrice7[RedonPrice7['XML_DATA_ITEM']=='LMP_PRC']\n",
    "RedonPrice7.index = pd.to_datetime(RedonPrice7.index)\n",
    "RedonPrice7.index = RedonPrice7.index.tz_localize('US/Pacific')\n",
    "RedonPrice7 = RedonPrice7.sort_index()\n",
    "\n",
    "file_RedonPrice10 = 'Redon_10.csv'\n",
    "RedonPrice10 = pd.read_csv(file_RedonPrice10,index_col=0, usecols=[0,10,14], parse_dates=[0])\n",
    "RedonPrice10 = RedonPrice10[RedonPrice10['XML_DATA_ITEM']=='LMP_PRC']\n",
    "RedonPrice10.index = pd.to_datetime(RedonPrice10.index)\n",
    "RedonPrice10.index = RedonPrice10.index.tz_localize('US/Pacific')\n",
    "RedonPrice10 = RedonPrice10.sort_index()\n",
    "\n",
    "Redon = [RedonPrice4, RedonPrice7, RedonPrice10]\n",
    "\n",
    "Redon = pd.concat(Redon)"
   ]
  },
  {
   "cell_type": "code",
   "execution_count": 130,
   "metadata": {
    "collapsed": true
   },
   "outputs": [],
   "source": [
    "# Anaheim\n",
    "file_AnaheimPrice4 = 'Anaheim_04.csv'\n",
    "AnaheimPrice4 = pd.read_csv(file_AnaheimPrice4,index_col=0, usecols=[0,10,14], parse_dates=[0])\n",
    "AnaheimPrice4 = AnaheimPrice4[AnaheimPrice4['XML_DATA_ITEM']=='LMP_PRC']\n",
    "AnaheimPrice4.index = pd.to_datetime(AnaheimPrice4.index)\n",
    "AnaheimPrice4.index = AnaheimPrice4.index.tz_localize('US/Pacific')\n",
    "AnaheimPrice4 = AnaheimPrice4.sort_index()\n",
    "\n",
    "file_AnaheimPrice7 = 'Anaheim_07.csv'\n",
    "AnaheimPrice7 = pd.read_csv(file_AnaheimPrice7,index_col=0, usecols=[0,10,14], parse_dates=[0])\n",
    "AnaheimPrice7 = AnaheimPrice7[AnaheimPrice7['XML_DATA_ITEM']=='LMP_PRC']\n",
    "AnaheimPrice7.index = pd.to_datetime(AnaheimPrice7.index)\n",
    "AnaheimPrice7.index = AnaheimPrice7.index.tz_localize('US/Pacific')\n",
    "AnaheimPrice7 = AnaheimPrice7.sort_index()\n",
    "\n",
    "file_AnaheimPrice10 = 'Anaheim_10.csv'\n",
    "AnaheimPrice10 = pd.read_csv(file_AnaheimPrice10,index_col=0, usecols=[0,10,14], parse_dates=[0])\n",
    "AnaheimPrice10 = AnaheimPrice10[AnaheimPrice10['XML_DATA_ITEM']=='LMP_PRC']\n",
    "AnaheimPrice10.index = pd.to_datetime(AnaheimPrice10.index)\n",
    "AnaheimPrice10.index = AnaheimPrice10.index.tz_localize('US/Pacific')\n",
    "AnaheimPrice10 = AnaheimPrice10.sort_index()\n",
    "\n",
    "Anaheim = [AnaheimPrice4, AnaheimPrice7, AnaheimPrice10]\n",
    "\n",
    "Anaheim = pd.concat(Anaheim)"
   ]
  },
  {
   "cell_type": "code",
   "execution_count": 131,
   "metadata": {
    "collapsed": true
   },
   "outputs": [],
   "source": [
    "# Laguna\n",
    "file_LaguPrice4 = 'Lagu_04.csv'\n",
    "LaguPrice4 = pd.read_csv(file_LaguPrice4,index_col=0, usecols=[0,10,14], parse_dates=[0])\n",
    "LaguPrice4 = LaguPrice4[LaguPrice4['XML_DATA_ITEM']=='LMP_PRC']\n",
    "LaguPrice4.index = pd.to_datetime(LaguPrice4.index)\n",
    "LaguPrice4.index = LaguPrice4.index.tz_localize('US/Pacific')\n",
    "LaguPrice4 = LaguPrice4.sort_index()\n",
    "\n",
    "file_LaguPrice7 = 'Lagu_07.csv'\n",
    "LaguPrice7 = pd.read_csv(file_LaguPrice7,index_col=0, usecols=[0,10,14], parse_dates=[0])\n",
    "LaguPrice7 = LaguPrice7[LaguPrice7['XML_DATA_ITEM']=='LMP_PRC']\n",
    "LaguPrice7.index = pd.to_datetime(LaguPrice7.index)\n",
    "LaguPrice7.index = LaguPrice7.index.tz_localize('US/Pacific')\n",
    "LaguPrice7 = LaguPrice7.sort_index()\n",
    "\n",
    "file_LaguPrice10 = 'Lagu_10.csv'\n",
    "LaguPrice10 = pd.read_csv(file_LaguPrice10,index_col=0, usecols=[0,10,14], parse_dates=[0])\n",
    "LaguPrice10 = LaguPrice10[LaguPrice10['XML_DATA_ITEM']=='LMP_PRC']\n",
    "LaguPrice10.index = pd.to_datetime(LaguPrice10.index)\n",
    "LaguPrice10.index = LaguPrice10.index.tz_localize('US/Pacific')\n",
    "LaguPrice10 = LaguPrice10.sort_index()\n",
    "\n",
    "Lagu = [LaguPrice4, LaguPrice7, LaguPrice10]\n",
    "\n",
    "Lagu = pd.concat(Lagu)"
   ]
  },
  {
   "cell_type": "code",
   "execution_count": 132,
   "metadata": {
    "collapsed": false
   },
   "outputs": [
    {
     "data": {
      "text/html": [
       "<div>\n",
       "<table border=\"1\" class=\"dataframe\">\n",
       "  <thead>\n",
       "    <tr style=\"text-align: right;\">\n",
       "      <th></th>\n",
       "      <th>LMP</th>\n",
       "    </tr>\n",
       "    <tr>\n",
       "      <th>INTERVALSTARTTIME_GMT</th>\n",
       "      <th></th>\n",
       "    </tr>\n",
       "  </thead>\n",
       "  <tbody>\n",
       "    <tr>\n",
       "      <th>2017-04-01 07:00:00-07:00</th>\n",
       "      <td>18.402432</td>\n",
       "    </tr>\n",
       "    <tr>\n",
       "      <th>2017-04-01 08:00:00-07:00</th>\n",
       "      <td>24.017886</td>\n",
       "    </tr>\n",
       "    <tr>\n",
       "      <th>2017-04-01 09:00:00-07:00</th>\n",
       "      <td>16.340780</td>\n",
       "    </tr>\n",
       "    <tr>\n",
       "      <th>2017-04-01 10:00:00-07:00</th>\n",
       "      <td>17.043730</td>\n",
       "    </tr>\n",
       "    <tr>\n",
       "      <th>2017-04-01 11:00:00-07:00</th>\n",
       "      <td>23.850342</td>\n",
       "    </tr>\n",
       "  </tbody>\n",
       "</table>\n",
       "</div>"
      ],
      "text/plain": [
       "                                 LMP\n",
       "INTERVALSTARTTIME_GMT               \n",
       "2017-04-01 07:00:00-07:00  18.402432\n",
       "2017-04-01 08:00:00-07:00  24.017886\n",
       "2017-04-01 09:00:00-07:00  16.340780\n",
       "2017-04-01 10:00:00-07:00  17.043730\n",
       "2017-04-01 11:00:00-07:00  23.850342"
      ]
     },
     "execution_count": 132,
     "metadata": {},
     "output_type": "execute_result"
    }
   ],
   "source": [
    "combined_LA2 = Olinda.join(Elseg.reindex(Olinda.index, method='nearest')['MW'],lsuffix = '2')\n",
    "combined_LA2 = combined_LA2.join(Redon.reindex(combined_LA2.index.unique(), method='nearest')['MW'],lsuffix = '3')\n",
    "combined_LA2 = combined_LA2.join(Anaheim.reindex(combined_LA2.index.unique(), method='nearest')['MW'],lsuffix = '4')\n",
    "combined_LA2 = combined_LA2.join(Lagu.reindex(combined_LA2.index.unique(), method='nearest')['MW'],lsuffix = '5')\n",
    "combined_LA2.drop( ['XML_DATA_ITEM'], axis = 1, inplace = True)\n",
    "combined_LA2 = combined_LA2.mean(axis = 1).to_frame(name='LMP')\n",
    "combined_LA2.head()"
   ]
  },
  {
   "cell_type": "code",
   "execution_count": 133,
   "metadata": {
    "collapsed": false
   },
   "outputs": [
    {
     "data": {
      "text/html": [
       "<div>\n",
       "<table border=\"1\" class=\"dataframe\">\n",
       "  <thead>\n",
       "    <tr style=\"text-align: right;\">\n",
       "      <th></th>\n",
       "      <th>LMP</th>\n",
       "    </tr>\n",
       "    <tr>\n",
       "      <th>INTERVALSTARTTIME_GMT</th>\n",
       "      <th></th>\n",
       "    </tr>\n",
       "  </thead>\n",
       "  <tbody>\n",
       "    <tr>\n",
       "      <th>2017-01-01 08:00:00-08:00</th>\n",
       "      <td>32.410284</td>\n",
       "    </tr>\n",
       "    <tr>\n",
       "      <th>2017-01-01 09:00:00-08:00</th>\n",
       "      <td>32.339538</td>\n",
       "    </tr>\n",
       "    <tr>\n",
       "      <th>2017-01-01 10:00:00-08:00</th>\n",
       "      <td>32.001894</td>\n",
       "    </tr>\n",
       "    <tr>\n",
       "      <th>2017-01-01 11:00:00-08:00</th>\n",
       "      <td>31.905702</td>\n",
       "    </tr>\n",
       "    <tr>\n",
       "      <th>2017-01-01 12:00:00-08:00</th>\n",
       "      <td>31.027602</td>\n",
       "    </tr>\n",
       "  </tbody>\n",
       "</table>\n",
       "</div>"
      ],
      "text/plain": [
       "                                 LMP\n",
       "INTERVALSTARTTIME_GMT               \n",
       "2017-01-01 08:00:00-08:00  32.410284\n",
       "2017-01-01 09:00:00-08:00  32.339538\n",
       "2017-01-01 10:00:00-08:00  32.001894\n",
       "2017-01-01 11:00:00-08:00  31.905702\n",
       "2017-01-01 12:00:00-08:00  31.027602"
      ]
     },
     "execution_count": 133,
     "metadata": {},
     "output_type": "execute_result"
    }
   ],
   "source": [
    "final_price = pd.concat([combined_LA, combined_LA2])\n",
    "final_price.head()"
   ]
  },
  {
   "cell_type": "code",
   "execution_count": 134,
   "metadata": {
    "collapsed": true
   },
   "outputs": [],
   "source": [
    "def remove_outliers(data, variable, lower=-np.inf, upper=np.inf):\n",
    "    \"\"\"\n",
    "    Input:\n",
    "      data (data frame): the table to be filtered\n",
    "      variable (string): the column with numerical outliers\n",
    "      lower (numeric): observations with values lower than this will be removed\n",
    "      upper (numeric): observations with values higher than this will be removed\n",
    "    \n",
    "    Output:\n",
    "      a winsorized data frame with outliers removed\n",
    "    \"\"\"\n",
    "        \n",
    "    data = data[(data[variable]>=lower) & (data[variable]<=upper)]\n",
    "    return data"
   ]
  },
  {
   "cell_type": "code",
   "execution_count": 135,
   "metadata": {
    "collapsed": false
   },
   "outputs": [
    {
     "name": "stdout",
     "output_type": "stream",
     "text": [
      "1250\n"
     ]
    }
   ],
   "source": [
    "final_price= remove_outliers(final_price, 'LMP', lower=3, upper=np.inf)\n",
    "print(len(final_price))"
   ]
  },
  {
   "cell_type": "markdown",
   "metadata": {},
   "source": [
    "## Adding more features to training data"
   ]
  },
  {
   "cell_type": "code",
   "execution_count": 136,
   "metadata": {
    "collapsed": false
   },
   "outputs": [
    {
     "name": "stderr",
     "output_type": "stream",
     "text": [
      "C:\\Users\\joann\\Anaconda3\\lib\\site-packages\\ipykernel\\__main__.py:43: FutureWarning: currently extract(expand=None) means expand=False (return Index/Series/DataFrame) but in a future version of pandas this will be changed to expand=True (return DataFrame)\n",
      "C:\\Users\\joann\\Anaconda3\\lib\\site-packages\\ipykernel\\__main__.py:47: FutureWarning: convert_objects is deprecated.  Use the data-type specific converters pd.to_datetime, pd.to_timedelta and pd.to_numeric.\n"
     ]
    }
   ],
   "source": [
    "#Reload Energy and Weather Data\n",
    "file_LAdemand0117 = 'LA_LDWP_20170101_20170114_Demand.csv'\n",
    "LAdemand0117 = pd.read_csv(file_LAdemand0117, skiprows=[0,1,2,3],index_col=0, usecols=[0,1], parse_dates=[0])\n",
    "\n",
    "file_LAdemand0417 = 'LA_LDWP_20170401_20170414_Demand.csv'\n",
    "LAdemand0417 = pd.read_csv(file_LAdemand0417, skiprows=[0,1,2,3],index_col=0, usecols=[0,1], parse_dates=[0])\n",
    "\n",
    "file_LAdemand0717 = 'LA_LDWP_20170701_20170714_Demand.csv'\n",
    "LAdemand0717 = pd.read_csv(file_LAdemand0717, skiprows=[0,1,2,3],index_col=0, usecols=[0,1], parse_dates=[0])\n",
    "\n",
    "file_LAdemand1017 = 'LA_LDWP_20171001_20171014_Demand.csv'\n",
    "LAdemand1017 = pd.read_csv(file_LAdemand1017, skiprows=[0,1,2,3],index_col=0, usecols=[0,1], parse_dates=[0])\n",
    "\n",
    "LAdemand17 = LAdemand1017.append(LAdemand0717.append(LAdemand0417.append(LAdemand0117)))\n",
    "LAdemand17.index = pd.to_datetime(LAdemand17.index)\n",
    "LAdemand17.index = LAdemand17.index.tz_localize('US/Pacific')\n",
    "\n",
    "file_LAweather0117 = 'LA_KCQT_20170101_20170114_Weather.csv'\n",
    "LAweather0117 = pd.read_csv(file_LAweather0117, parse_dates = [[0,1]], encoding = 'cp1252')\n",
    "LAweather0117 = LAweather0117.set_index('Date_Time (PST)')\n",
    "\n",
    "file_LAweather0417 = 'LA_KCQT_20170401_20170414_Weather.csv'\n",
    "LAweather0417 = pd.read_csv(file_LAweather0417, parse_dates = [[0,1]], encoding = 'cp1252')\n",
    "LAweather0417 = LAweather0417.set_index('Date_Time (PDT)')\n",
    "\n",
    "file_LAweather0717 = 'LA_KCQT_20170701_20170714_Weather.csv'\n",
    "LAweather0717 = pd.read_csv(file_LAweather0717, parse_dates = [[0,1]], encoding = 'cp1252')\n",
    "LAweather0717 = LAweather0717.set_index('Date_Time (PDT)')\n",
    "\n",
    "file_LAweather1017 = 'LA_KCQT_20171001_20171014_Weather.csv'\n",
    "LAweather1017 = pd.read_csv(file_LAweather1017, parse_dates = [[0,1]], encoding = 'cp1252')\n",
    "LAweather1017 = LAweather1017.set_index('Date_Time (PDT)')\n",
    "\n",
    "LAweather17 = LAweather0117.append(LAweather0417.append(LAweather0717.append(LAweather1017)))\n",
    "LAweather17.index = pd.to_datetime(LAweather17.index)\n",
    "LAweather17.index = LAweather17.index.tz_localize('US/Pacific')\n",
    "LAweather17.drop( ['Wind Dir','Events','Conditions','Visibility','Wind Speed','Gust Speed','Dew Point'], axis = 1, inplace = True)\n",
    "\n",
    "LAweather17 =  LAweather17[~LAweather17.index.duplicated(keep='last')]\n",
    "combined_LA17 = LAdemand17.join(LAweather17.reindex(LAdemand17.index.unique(), method='nearest'))\n",
    "for i in range(1,len(combined_LA17.columns.values)-1):\n",
    "    try:\n",
    "        combined_LA17.iloc[:,i] = combined_LA17.iloc[:,i].str.extract('(\\d+)') \n",
    "    except:\n",
    "        continue\n",
    "combined_LA17.fillna(value = 0, inplace = True)\n",
    "combined_LA17 = combined_LA17.convert_objects(convert_numeric=True)\n",
    "combined_LA17.rename(index=str, columns={\"LDWP demand megawatthours\": \"Demand\"}, inplace = True)"
   ]
  },
  {
   "cell_type": "code",
   "execution_count": 137,
   "metadata": {
    "collapsed": false
   },
   "outputs": [
    {
     "data": {
      "text/html": [
       "<div>\n",
       "<table border=\"1\" class=\"dataframe\">\n",
       "  <thead>\n",
       "    <tr style=\"text-align: right;\">\n",
       "      <th></th>\n",
       "      <th>LMP</th>\n",
       "      <th>HIST</th>\n",
       "    </tr>\n",
       "    <tr>\n",
       "      <th>INTERVALSTARTTIME_GMT</th>\n",
       "      <th></th>\n",
       "      <th></th>\n",
       "    </tr>\n",
       "  </thead>\n",
       "  <tbody>\n",
       "    <tr>\n",
       "      <th>2017-01-01 08:00:00-08:00</th>\n",
       "      <td>32.410284</td>\n",
       "      <td>NaN</td>\n",
       "    </tr>\n",
       "    <tr>\n",
       "      <th>2017-01-01 09:00:00-08:00</th>\n",
       "      <td>32.339538</td>\n",
       "      <td>NaN</td>\n",
       "    </tr>\n",
       "    <tr>\n",
       "      <th>2017-01-01 10:00:00-08:00</th>\n",
       "      <td>32.001894</td>\n",
       "      <td>NaN</td>\n",
       "    </tr>\n",
       "    <tr>\n",
       "      <th>2017-01-01 11:00:00-08:00</th>\n",
       "      <td>31.905702</td>\n",
       "      <td>NaN</td>\n",
       "    </tr>\n",
       "    <tr>\n",
       "      <th>2017-01-01 12:00:00-08:00</th>\n",
       "      <td>31.027602</td>\n",
       "      <td>NaN</td>\n",
       "    </tr>\n",
       "  </tbody>\n",
       "</table>\n",
       "</div>"
      ],
      "text/plain": [
       "                                 LMP  HIST\n",
       "INTERVALSTARTTIME_GMT                     \n",
       "2017-01-01 08:00:00-08:00  32.410284   NaN\n",
       "2017-01-01 09:00:00-08:00  32.339538   NaN\n",
       "2017-01-01 10:00:00-08:00  32.001894   NaN\n",
       "2017-01-01 11:00:00-08:00  31.905702   NaN\n",
       "2017-01-01 12:00:00-08:00  31.027602   NaN"
      ]
     },
     "execution_count": 137,
     "metadata": {},
     "output_type": "execute_result"
    }
   ],
   "source": [
    "# Adding 24 hr time point historical price data\n",
    "hist_price = []\n",
    "#time_point = final_price.index.values \n",
    "indexes = []\n",
    "for index, row in final_price.iterrows():\n",
    "    #print(index-np.timedelta64(1,'D'))\n",
    "    if index-np.timedelta64(1,'D') in indexes:\n",
    "        hist_price.append(float(final_price.loc[index-np.timedelta64(1,'D')].values[0]))\n",
    "    else:\n",
    "        hist_price.append(np.nan)\n",
    "    indexes.append(index)\n",
    "final_price['HIST'] = hist_price\n",
    "final_price.head()"
   ]
  },
  {
   "cell_type": "code",
   "execution_count": 138,
   "metadata": {
    "collapsed": false
   },
   "outputs": [
    {
     "data": {
      "text/html": [
       "<div>\n",
       "<table border=\"1\" class=\"dataframe\">\n",
       "  <thead>\n",
       "    <tr style=\"text-align: right;\">\n",
       "      <th></th>\n",
       "      <th>LMP</th>\n",
       "      <th>HIST</th>\n",
       "    </tr>\n",
       "    <tr>\n",
       "      <th>INTERVALSTARTTIME_GMT</th>\n",
       "      <th></th>\n",
       "      <th></th>\n",
       "    </tr>\n",
       "  </thead>\n",
       "  <tbody>\n",
       "    <tr>\n",
       "      <th>2017-01-02 08:00:00-08:00</th>\n",
       "      <td>31.377106</td>\n",
       "      <td>32.410284</td>\n",
       "    </tr>\n",
       "    <tr>\n",
       "      <th>2017-01-02 09:00:00-08:00</th>\n",
       "      <td>30.666960</td>\n",
       "      <td>32.339538</td>\n",
       "    </tr>\n",
       "    <tr>\n",
       "      <th>2017-01-02 10:00:00-08:00</th>\n",
       "      <td>29.134530</td>\n",
       "      <td>32.001894</td>\n",
       "    </tr>\n",
       "    <tr>\n",
       "      <th>2017-01-02 11:00:00-08:00</th>\n",
       "      <td>28.437544</td>\n",
       "      <td>31.905702</td>\n",
       "    </tr>\n",
       "    <tr>\n",
       "      <th>2017-01-02 12:00:00-08:00</th>\n",
       "      <td>29.695600</td>\n",
       "      <td>31.027602</td>\n",
       "    </tr>\n",
       "  </tbody>\n",
       "</table>\n",
       "</div>"
      ],
      "text/plain": [
       "                                 LMP       HIST\n",
       "INTERVALSTARTTIME_GMT                          \n",
       "2017-01-02 08:00:00-08:00  31.377106  32.410284\n",
       "2017-01-02 09:00:00-08:00  30.666960  32.339538\n",
       "2017-01-02 10:00:00-08:00  29.134530  32.001894\n",
       "2017-01-02 11:00:00-08:00  28.437544  31.905702\n",
       "2017-01-02 12:00:00-08:00  29.695600  31.027602"
      ]
     },
     "execution_count": 138,
     "metadata": {},
     "output_type": "execute_result"
    }
   ],
   "source": [
    "#Drop data points that don't have historical data\n",
    "final_price.dropna(inplace=True)\n",
    "final_price.head()"
   ]
  },
  {
   "cell_type": "code",
   "execution_count": 139,
   "metadata": {
    "collapsed": false
   },
   "outputs": [
    {
     "data": {
      "text/html": [
       "<div>\n",
       "<table border=\"1\" class=\"dataframe\">\n",
       "  <thead>\n",
       "    <tr style=\"text-align: right;\">\n",
       "      <th></th>\n",
       "      <th>LMP</th>\n",
       "      <th>HIST</th>\n",
       "      <th>Demand</th>\n",
       "    </tr>\n",
       "    <tr>\n",
       "      <th>INTERVALSTARTTIME_GMT</th>\n",
       "      <th></th>\n",
       "      <th></th>\n",
       "      <th></th>\n",
       "    </tr>\n",
       "  </thead>\n",
       "  <tbody>\n",
       "    <tr>\n",
       "      <th>2017-01-02 08:00:00-08:00</th>\n",
       "      <td>31.377106</td>\n",
       "      <td>32.410284</td>\n",
       "      <td>2683</td>\n",
       "    </tr>\n",
       "    <tr>\n",
       "      <th>2017-01-02 09:00:00-08:00</th>\n",
       "      <td>30.666960</td>\n",
       "      <td>32.339538</td>\n",
       "      <td>2767</td>\n",
       "    </tr>\n",
       "    <tr>\n",
       "      <th>2017-01-02 10:00:00-08:00</th>\n",
       "      <td>29.134530</td>\n",
       "      <td>32.001894</td>\n",
       "      <td>2887</td>\n",
       "    </tr>\n",
       "    <tr>\n",
       "      <th>2017-01-02 11:00:00-08:00</th>\n",
       "      <td>28.437544</td>\n",
       "      <td>31.905702</td>\n",
       "      <td>3010</td>\n",
       "    </tr>\n",
       "    <tr>\n",
       "      <th>2017-01-02 12:00:00-08:00</th>\n",
       "      <td>29.695600</td>\n",
       "      <td>31.027602</td>\n",
       "      <td>3017</td>\n",
       "    </tr>\n",
       "  </tbody>\n",
       "</table>\n",
       "</div>"
      ],
      "text/plain": [
       "                                 LMP       HIST  Demand\n",
       "INTERVALSTARTTIME_GMT                                  \n",
       "2017-01-02 08:00:00-08:00  31.377106  32.410284    2683\n",
       "2017-01-02 09:00:00-08:00  30.666960  32.339538    2767\n",
       "2017-01-02 10:00:00-08:00  29.134530  32.001894    2887\n",
       "2017-01-02 11:00:00-08:00  28.437544  31.905702    3010\n",
       "2017-01-02 12:00:00-08:00  29.695600  31.027602    3017"
      ]
     },
     "execution_count": 139,
     "metadata": {},
     "output_type": "execute_result"
    }
   ],
   "source": [
    "# Add demand data\n",
    "EP_LA = final_price.join(LAdemand17.reindex(final_price.index.unique(), method='nearest'))\n",
    "EP_LA.rename(index=str, columns={\"LDWP demand megawatthours\": \"Demand\"}, inplace = True)\n",
    "EP_LA.dropna(inplace=True)\n",
    "EP_LA.head()"
   ]
  },
  {
   "cell_type": "markdown",
   "metadata": {},
   "source": [
    "## Model Training\n",
    "### 1. Random Forest"
   ]
  },
  {
   "cell_type": "code",
   "execution_count": 140,
   "metadata": {
    "collapsed": false
   },
   "outputs": [],
   "source": [
    "from sklearn.ensemble import RandomForestRegressor\n",
    "from sklearn.cross_validation import cross_val_score\n",
    "from sklearn import cross_validation\n",
    "from sklearn.model_selection import train_test_split\n",
    "import seaborn as sns"
   ]
  },
  {
   "cell_type": "code",
   "execution_count": 141,
   "metadata": {
    "collapsed": true
   },
   "outputs": [],
   "source": [
    "def rmse(actual_y, predicted_y):\n",
    "    \"\"\"\n",
    "    Args:\n",
    "        predicted_y: an array of the prediction from the model\n",
    "        actual_y: an array of the groudtruth label\n",
    "        \n",
    "    Returns:\n",
    "        The root mean square error between the prediction and the groudtruth\n",
    "    \"\"\"\n",
    "    \n",
    "    return np.sqrt(np.sum(np.square(actual_y-predicted_y))/len(actual_y))\n",
    "\n"
   ]
  },
  {
   "cell_type": "code",
   "execution_count": 142,
   "metadata": {
    "collapsed": false
   },
   "outputs": [],
   "source": [
    "\n",
    "trainX, testX, trainY, testY = train_test_split(EP_LA.drop(['LMP'], axis = 1), EP_LA['LMP'], test_size=0.30, random_state=42)"
   ]
  },
  {
   "cell_type": "code",
   "execution_count": 143,
   "metadata": {
    "collapsed": false
   },
   "outputs": [],
   "source": [
    "rf = RandomForestRegressor(n_estimators=1000, max_depth=None, min_samples_split=1.0, random_state=0)\n",
    "model = rf.fit(trainX, trainY)\n",
    "model_rmse = rmse(testY,model.predict(testX))\n",
    "score = cross_val_score(rf, trainX, trainY,cv=5)"
   ]
  },
  {
   "cell_type": "code",
   "execution_count": 144,
   "metadata": {
    "collapsed": false
   },
   "outputs": [
    {
     "name": "stdout",
     "output_type": "stream",
     "text": [
      "[ 0.  0.]\n",
      "[-0.0012797  -0.00982794 -0.01080199 -0.01496865 -0.00822116]\n"
     ]
    }
   ],
   "source": [
    "print(model.feature_importances_)\n",
    "print(score)"
   ]
  },
  {
   "cell_type": "markdown",
   "metadata": {},
   "source": [
    "## Gaussian Process"
   ]
  },
  {
   "cell_type": "code",
   "execution_count": 145,
   "metadata": {
    "collapsed": true
   },
   "outputs": [],
   "source": [
    "%matplotlib inline \n",
    "import sklearn.decomposition\n",
    "import sklearn.metrics\n",
    "from sklearn import gaussian_process\n",
    "from sklearn import cross_validation\n",
    "from sklearn.model_selection import train_test_split"
   ]
  },
  {
   "cell_type": "code",
   "execution_count": 146,
   "metadata": {
    "collapsed": true
   },
   "outputs": [],
   "source": [
    "def predict(theta, nugget, trainX, trainY, testX, testY,testset):\n",
    "\n",
    "    gp = gaussian_process.GaussianProcess(theta0=theta, nugget=nugget)\n",
    "    \n",
    "    \n",
    "    gp.fit(trainX, trainY)\n",
    "\n",
    "    predictedY, MSE = gp.predict(testX, eval_MSE = True)\n",
    "    sigma = np.sqrt(MSE)\n",
    "\n",
    "\n",
    "    results = testset.copy()\n",
    "    results['predictedY'] = predictedY\n",
    "    results['sigma'] = sigma\n",
    "\n",
    "    print (\"Train score R2:\", gp.score(trainX, trainY))\n",
    "    print (\"Test score R2:\", sklearn.metrics.r2_score(testY, predictedY))\n",
    "\n",
    "    return gp, results"
   ]
  },
  {
   "cell_type": "code",
   "execution_count": 147,
   "metadata": {
    "collapsed": true
   },
   "outputs": [],
   "source": [
    "trainX, testX, trainY, testY = train_test_split(EP_LA.drop('LMP', axis = 1), EP_LA['LMP'], test_size=0.33, random_state=42)"
   ]
  },
  {
   "cell_type": "code",
   "execution_count": 148,
   "metadata": {
    "collapsed": false
   },
   "outputs": [
    {
     "name": "stdout",
     "output_type": "stream",
     "text": [
      "Train score R2: 0.869055242966\n",
      "Test score R2: 0.724731187316\n"
     ]
    },
    {
     "name": "stderr",
     "output_type": "stream",
     "text": [
      "C:\\Users\\joann\\Anaconda3\\lib\\site-packages\\sklearn\\utils\\deprecation.py:52: DeprecationWarning: Class GaussianProcess is deprecated; GaussianProcess was deprecated in version 0.18 and will be removed in 0.20. Use the GaussianProcessRegressor instead.\n",
      "  warnings.warn(msg, category=DeprecationWarning)\n",
      "C:\\Users\\joann\\Anaconda3\\lib\\site-packages\\sklearn\\utils\\deprecation.py:70: DeprecationWarning: Function l1_cross_distances is deprecated; l1_cross_distances was deprecated in version 0.18 and will be removed in 0.20.\n",
      "  warnings.warn(msg, category=DeprecationWarning)\n"
     ]
    }
   ],
   "source": [
    "gp_price, results_price = predict(2, 0.004, trainX, trainY, testX, testY,  testX.add(testY))"
   ]
  },
  {
   "cell_type": "code",
   "execution_count": 149,
   "metadata": {
    "collapsed": false
   },
   "outputs": [
    {
     "data": {
      "text/plain": [
       "([], <a list of 0 Text xticklabel objects>)"
      ]
     },
     "execution_count": 149,
     "metadata": {},
     "output_type": "execute_result"
    },
    {
     "data": {
      "image/png": "[encoded data removed]",
      "text/plain": [
       "<matplotlib.figure.Figure at 0x26918e1f940>"
      ]
     },
     "metadata": {},
     "output_type": "display_data"
    }
   ],
   "source": [
    "# Visualizing results\n",
    "def plotGP(testY, predictedY, sigma):\n",
    "    fig = plt.figure(figsize = (20,6))\n",
    "    plt.plot(testY.values, 'r.', markersize=10, label=u'Observations')\n",
    "    plt.plot(predictedY.values, 'b-', label=u'Prediction')\n",
    "    x = range(len(testY))\n",
    "    plt.fill(np.concatenate([x, x[::-1]]), np.concatenate([predictedY - 1.9600 * sigma, (predictedY + 1.9600 * sigma)[::-1]]),\n",
    "             alpha=.5, fc='b', ec='None', label='95% confidence interval')\n",
    "plotGP(testY, results_price['predictedY'], results_price['sigma'])\n",
    "plt.ylabel('LMP', fontsize = 13)\n",
    "plt.title('Gaussian Process Regression: Hourly Electricity LMP Price Prediction', fontsize = 17)\n",
    "plt.legend(loc='upper right')\n",
    "plt.xlim([0, len(testY)])\n",
    "plt.xticks([])\n",
    "\n"
   ]
  },
  {
   "cell_type": "code",
   "execution_count": 152,
   "metadata": {
    "collapsed": false
   },
   "outputs": [],
   "source": [
    "results_price[['predictedY']].to_csv('predicted_price.csv')"
   ]
  },
  {
   "cell_type": "code",
   "execution_count": null,
   "metadata": {
    "collapsed": true
   },
   "outputs": [],
   "source": []
  }
 ],
 "metadata": {
  "kernelspec": {
   "display_name": "Python 3",
   "language": "python",
   "name": "python3"
  },
  "language_info": {
   "codemirror_mode": {
    "name": "ipython",
    "version": 3
   },
   "file_extension": ".py",
   "mimetype": "text/x-python",
   "name": "python",
   "nbconvert_exporter": "python",
   "pygments_lexer": "ipython3",
   "version": "3.5.4"
  }
 },
 "nbformat": 4,
 "nbformat_minor": 2
}
