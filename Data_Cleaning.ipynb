{
 "cells": [
  {
   "cell_type": "code",
   "execution_count": 1,
   "metadata": {
    "collapsed": true
   },
   "outputs": [],
   "source": [
    "import csv\n",
    "import numpy as np\n",
    "import pandas as pd\n",
    "from datetime import datetime\n",
    "from matplotlib import pyplot as plt"
   ]
  },
  {
   "cell_type": "markdown",
   "metadata": {},
   "source": [
    "# Los Angeles Data"
   ]
  },
  {
   "cell_type": "markdown",
   "metadata": {},
   "source": [
    "## ENERGY\n"
   ]
  },
  {
   "cell_type": "code",
   "execution_count": 2,
   "metadata": {
    "collapsed": false
   },
   "outputs": [],
   "source": [
    "file_LAdemand0117 = 'LA_LDWP_20170101_20170114_Demand.csv'\n",
    "LAdemand0117 = pd.read_csv(file_LAdemand0117, skiprows=[0,1,2,3],index_col=0, usecols=[0,1], parse_dates=[0])\n",
    "\n",
    "file_LAdemand0417 = 'LA_LDWP_20170401_20170414_Demand.csv'\n",
    "LAdemand0417 = pd.read_csv(file_LAdemand0417, skiprows=[0,1,2,3],index_col=0, usecols=[0,1], parse_dates=[0])\n",
    "\n",
    "file_LAdemand0717 = 'LA_LDWP_20170701_20170714_Demand.csv'\n",
    "LAdemand0717 = pd.read_csv(file_LAdemand0717, skiprows=[0,1,2,3],index_col=0, usecols=[0,1], parse_dates=[0])\n",
    "\n",
    "file_LAdemand1017 = 'LA_LDWP_20171001_20171014_Demand.csv'\n",
    "LAdemand1017 = pd.read_csv(file_LAdemand1017, skiprows=[0,1,2,3],index_col=0, usecols=[0,1], parse_dates=[0])\n",
    "\n",
    "LAdemand17 = LAdemand1017.append(LAdemand0717.append(LAdemand0417.append(LAdemand0117)))\n",
    "LAdemand17.index = pd.to_datetime(LAdemand17.index)\n",
    "LAdemand17.index = LAdemand17.index.tz_localize('US/Pacific')\n",
    "LAdemand17['Hour'] = LAdemand17.index.hour"
   ]
  },
  {
   "cell_type": "markdown",
   "metadata": {},
   "source": [
    "## WEATHER"
   ]
  },
  {
   "cell_type": "code",
   "execution_count": 3,
   "metadata": {
    "collapsed": false
   },
   "outputs": [],
   "source": [
    "file_LAweather0117 = 'LA_KCQT_20170101_20170114_Weather.csv'\n",
    "LAweather0117 = pd.read_csv(file_LAweather0117, parse_dates = [[0,1]], encoding = 'cp1252')\n",
    "LAweather0117 = LAweather0117.set_index('Date_Time (PST)')\n",
    "\n",
    "file_LAweather0417 = 'LA_KCQT_20170401_20170414_Weather.csv'\n",
    "LAweather0417 = pd.read_csv(file_LAweather0417, parse_dates = [[0,1]], encoding = 'cp1252')\n",
    "LAweather0417 = LAweather0417.set_index('Date_Time (PDT)')\n",
    "\n",
    "file_LAweather0717 = 'LA_KCQT_20170701_20170714_Weather.csv'\n",
    "LAweather0717 = pd.read_csv(file_LAweather0717, parse_dates = [[0,1]], encoding = 'cp1252')\n",
    "LAweather0717 = LAweather0717.set_index('Date_Time (PDT)')\n",
    "\n",
    "file_LAweather1017 = 'LA_KCQT_20171001_20171014_Weather.csv'\n",
    "LAweather1017 = pd.read_csv(file_LAweather1017, parse_dates = [[0,1]], encoding = 'cp1252')\n",
    "LAweather1017 = LAweather1017.set_index('Date_Time (PDT)')\n",
    "\n",
    "LAweather17 = LAweather0117.append(LAweather0417.append(LAweather0717.append(LAweather1017)))\n",
    "LAweather17.index = pd.to_datetime(LAweather17.index)\n",
    "LAweather17.index = LAweather17.index.tz_localize('US/Pacific')\n",
    "LAweather17.drop( ['Wind Dir','Events','Conditions'], axis = 1, inplace = True)"
   ]
  },
  {
   "cell_type": "markdown",
   "metadata": {},
   "source": [
    "## COMBINED"
   ]
  },
  {
   "cell_type": "code",
   "execution_count": 4,
   "metadata": {
    "collapsed": false
   },
   "outputs": [
    {
     "name": "stderr",
     "output_type": "stream",
     "text": [
      "C:\\Users\\joann\\Anaconda3\\lib\\site-packages\\ipykernel\\__main__.py:5: FutureWarning: currently extract(expand=None) means expand=False (return Index/Series/DataFrame) but in a future version of pandas this will be changed to expand=True (return DataFrame)\n",
      "C:\\Users\\joann\\Anaconda3\\lib\\site-packages\\ipykernel\\__main__.py:9: FutureWarning: convert_objects is deprecated.  Use the data-type specific converters pd.to_datetime, pd.to_timedelta and pd.to_numeric.\n",
      "C:\\Users\\joann\\Anaconda3\\lib\\site-packages\\numpy\\core\\numeric.py:301: FutureWarning: in the future, full((1348, 1), 1505000) will return an array of dtype('int32')\n",
      "  format(shape, fill_value, array(fill_value).dtype), FutureWarning)\n"
     ]
    },
    {
     "data": {
      "text/html": [
       "<div>\n",
       "<table border=\"1\" class=\"dataframe\">\n",
       "  <thead>\n",
       "    <tr style=\"text-align: right;\">\n",
       "      <th></th>\n",
       "      <th>Demand</th>\n",
       "      <th>Hour</th>\n",
       "      <th>Temp.</th>\n",
       "      <th>Dew Point</th>\n",
       "      <th>Humidity</th>\n",
       "      <th>Pressure</th>\n",
       "      <th>Visibility</th>\n",
       "      <th>Wind Speed</th>\n",
       "      <th>Gust Speed</th>\n",
       "      <th>Precip</th>\n",
       "      <th>Population</th>\n",
       "    </tr>\n",
       "    <tr>\n",
       "      <th>Category</th>\n",
       "      <th></th>\n",
       "      <th></th>\n",
       "      <th></th>\n",
       "      <th></th>\n",
       "      <th></th>\n",
       "      <th></th>\n",
       "      <th></th>\n",
       "      <th></th>\n",
       "      <th></th>\n",
       "      <th></th>\n",
       "      <th></th>\n",
       "    </tr>\n",
       "  </thead>\n",
       "  <tbody>\n",
       "    <tr>\n",
       "      <th>2017-10-15 00:00:00-07:00</th>\n",
       "      <td>2793</td>\n",
       "      <td>0</td>\n",
       "      <td>66</td>\n",
       "      <td>57</td>\n",
       "      <td>73</td>\n",
       "      <td>29</td>\n",
       "      <td>8</td>\n",
       "      <td>0</td>\n",
       "      <td>0</td>\n",
       "      <td>0.0</td>\n",
       "      <td>1505000.0</td>\n",
       "    </tr>\n",
       "    <tr>\n",
       "      <th>2017-10-14 23:00:00-07:00</th>\n",
       "      <td>3014</td>\n",
       "      <td>23</td>\n",
       "      <td>68</td>\n",
       "      <td>57</td>\n",
       "      <td>70</td>\n",
       "      <td>29</td>\n",
       "      <td>8</td>\n",
       "      <td>0</td>\n",
       "      <td>0</td>\n",
       "      <td>0.0</td>\n",
       "      <td>1505000.0</td>\n",
       "    </tr>\n",
       "    <tr>\n",
       "      <th>2017-10-14 22:00:00-07:00</th>\n",
       "      <td>3232</td>\n",
       "      <td>22</td>\n",
       "      <td>68</td>\n",
       "      <td>57</td>\n",
       "      <td>70</td>\n",
       "      <td>29</td>\n",
       "      <td>8</td>\n",
       "      <td>0</td>\n",
       "      <td>0</td>\n",
       "      <td>0.0</td>\n",
       "      <td>1505000.0</td>\n",
       "    </tr>\n",
       "    <tr>\n",
       "      <th>2017-10-14 21:00:00-07:00</th>\n",
       "      <td>3392</td>\n",
       "      <td>21</td>\n",
       "      <td>69</td>\n",
       "      <td>57</td>\n",
       "      <td>68</td>\n",
       "      <td>29</td>\n",
       "      <td>10</td>\n",
       "      <td>0</td>\n",
       "      <td>0</td>\n",
       "      <td>0.0</td>\n",
       "      <td>1505000.0</td>\n",
       "    </tr>\n",
       "    <tr>\n",
       "      <th>2017-10-14 20:00:00-07:00</th>\n",
       "      <td>3522</td>\n",
       "      <td>20</td>\n",
       "      <td>70</td>\n",
       "      <td>57</td>\n",
       "      <td>63</td>\n",
       "      <td>29</td>\n",
       "      <td>10</td>\n",
       "      <td>0</td>\n",
       "      <td>0</td>\n",
       "      <td>0.0</td>\n",
       "      <td>1505000.0</td>\n",
       "    </tr>\n",
       "  </tbody>\n",
       "</table>\n",
       "</div>"
      ],
      "text/plain": [
       "                           Demand  Hour  Temp.  Dew Point  Humidity  Pressure  \\\n",
       "Category                                                                        \n",
       "2017-10-15 00:00:00-07:00    2793     0     66         57        73        29   \n",
       "2017-10-14 23:00:00-07:00    3014    23     68         57        70        29   \n",
       "2017-10-14 22:00:00-07:00    3232    22     68         57        70        29   \n",
       "2017-10-14 21:00:00-07:00    3392    21     69         57        68        29   \n",
       "2017-10-14 20:00:00-07:00    3522    20     70         57        63        29   \n",
       "\n",
       "                           Visibility  Wind Speed  Gust Speed  Precip  \\\n",
       "Category                                                                \n",
       "2017-10-15 00:00:00-07:00           8           0           0     0.0   \n",
       "2017-10-14 23:00:00-07:00           8           0           0     0.0   \n",
       "2017-10-14 22:00:00-07:00           8           0           0     0.0   \n",
       "2017-10-14 21:00:00-07:00          10           0           0     0.0   \n",
       "2017-10-14 20:00:00-07:00          10           0           0     0.0   \n",
       "\n",
       "                           Population  \n",
       "Category                               \n",
       "2017-10-15 00:00:00-07:00   1505000.0  \n",
       "2017-10-14 23:00:00-07:00   1505000.0  \n",
       "2017-10-14 22:00:00-07:00   1505000.0  \n",
       "2017-10-14 21:00:00-07:00   1505000.0  \n",
       "2017-10-14 20:00:00-07:00   1505000.0  "
      ]
     },
     "execution_count": 4,
     "metadata": {},
     "output_type": "execute_result"
    }
   ],
   "source": [
    "LAweather17 =  LAweather17[~LAweather17.index.duplicated(keep='last')]\n",
    "combined_LA17 = LAdemand17.join(LAweather17.reindex(LAdemand17.index.unique(), method='nearest'))\n",
    "for i in range(1,len(combined_LA17.columns.values)-1):\n",
    "    try:\n",
    "        combined_LA17.iloc[:,i] = combined_LA17.iloc[:,i].str.extract('(\\d+)') \n",
    "    except:\n",
    "        continue\n",
    "combined_LA17.fillna(value = 0, inplace = True)\n",
    "combined_LA17 = combined_LA17.convert_objects(convert_numeric=True)\n",
    "combined_LA17['Population'] = np.full((len(combined_LA17),1),int(1505000))\n",
    "combined_LA17.rename(index=str, columns={\"LDWP demand megawatthours\": \"Demand\"}, inplace = True)\n",
    "\n",
    "combined_LA17.head()"
   ]
  },
  {
   "cell_type": "markdown",
   "metadata": {
    "collapsed": true
   },
   "source": [
    "# City of Tacoma"
   ]
  },
  {
   "cell_type": "markdown",
   "metadata": {},
   "source": [
    "## ENERGY"
   ]
  },
  {
   "cell_type": "code",
   "execution_count": 5,
   "metadata": {
    "collapsed": false
   },
   "outputs": [
    {
     "data": {
      "text/html": [
       "<div>\n",
       "<table border=\"1\" class=\"dataframe\">\n",
       "  <thead>\n",
       "    <tr style=\"text-align: right;\">\n",
       "      <th></th>\n",
       "      <th>TPWR demand megawatthours</th>\n",
       "      <th>Hour</th>\n",
       "    </tr>\n",
       "    <tr>\n",
       "      <th>Category</th>\n",
       "      <th></th>\n",
       "      <th></th>\n",
       "    </tr>\n",
       "  </thead>\n",
       "  <tbody>\n",
       "    <tr>\n",
       "      <th>2017-10-15 00:00:00-07:00</th>\n",
       "      <td>489</td>\n",
       "      <td>0</td>\n",
       "    </tr>\n",
       "    <tr>\n",
       "      <th>2017-10-14 23:00:00-07:00</th>\n",
       "      <td>514</td>\n",
       "      <td>23</td>\n",
       "    </tr>\n",
       "    <tr>\n",
       "      <th>2017-10-14 22:00:00-07:00</th>\n",
       "      <td>537</td>\n",
       "      <td>22</td>\n",
       "    </tr>\n",
       "    <tr>\n",
       "      <th>2017-10-14 21:00:00-07:00</th>\n",
       "      <td>557</td>\n",
       "      <td>21</td>\n",
       "    </tr>\n",
       "    <tr>\n",
       "      <th>2017-10-14 20:00:00-07:00</th>\n",
       "      <td>569</td>\n",
       "      <td>20</td>\n",
       "    </tr>\n",
       "  </tbody>\n",
       "</table>\n",
       "</div>"
      ],
      "text/plain": [
       "                           TPWR demand megawatthours  Hour\n",
       "Category                                                  \n",
       "2017-10-15 00:00:00-07:00                        489     0\n",
       "2017-10-14 23:00:00-07:00                        514    23\n",
       "2017-10-14 22:00:00-07:00                        537    22\n",
       "2017-10-14 21:00:00-07:00                        557    21\n",
       "2017-10-14 20:00:00-07:00                        569    20"
      ]
     },
     "execution_count": 5,
     "metadata": {},
     "output_type": "execute_result"
    }
   ],
   "source": [
    "file_WAdemand0117 = 'WA_TPWR_20170101_20170114_Demand.csv'\n",
    "WAdemand0117 = pd.read_csv(file_WAdemand0117, skiprows=[0,1,2,3],index_col=0, usecols=[0,1], parse_dates=[0])\n",
    "\n",
    "file_WAdemand0417 = 'WA_TPWR_20170401_20170414_Demand.csv'\n",
    "WAdemand0417 = pd.read_csv(file_WAdemand0417, skiprows=[0,1,2,3],index_col=0, usecols=[0,1], parse_dates=[0])\n",
    "\n",
    "file_WAdemand0717 = 'WA_TPWR_20170701_20170714_Demand.csv'\n",
    "WAdemand0717 = pd.read_csv(file_WAdemand0717, skiprows=[0,1,2,3],index_col=0, usecols=[0,1], parse_dates=[0])\n",
    "\n",
    "file_WAdemand1017 = 'WA_TPWR_20171001_20171014_Demand.csv'\n",
    "WAdemand1017 = pd.read_csv(file_WAdemand1017, skiprows=[0,1,2,3],index_col=0, usecols=[0,1], parse_dates=[0])\n",
    "\n",
    "WAdemand17 = WAdemand1017.append(WAdemand0717.append(WAdemand0417.append(WAdemand0117)))\n",
    "WAdemand17.index = pd.to_datetime(WAdemand17.index)\n",
    "WAdemand17.index = WAdemand17.index.tz_localize('US/Pacific')\n",
    "WAdemand17['Hour'] = WAdemand17.index.hour\n",
    "WAdemand17.head()"
   ]
  },
  {
   "cell_type": "markdown",
   "metadata": {},
   "source": [
    "## WEATHER"
   ]
  },
  {
   "cell_type": "code",
   "execution_count": 6,
   "metadata": {
    "collapsed": false
   },
   "outputs": [
    {
     "name": "stdout",
     "output_type": "stream",
     "text": [
      "DatetimeIndex(['2017-01-01 00:53:00', '2017-01-01 01:18:00',\n",
      "               '2017-01-01 01:49:00', '2017-01-01 01:53:00',\n",
      "               '2017-01-01 02:32:00', '2017-01-01 02:53:00',\n",
      "               '2017-01-01 03:24:00', '2017-01-01 03:37:00',\n",
      "               '2017-01-01 03:53:00', '2017-01-01 04:18:00',\n",
      "               ...\n",
      "               '2017-10-14 14:53:00', '2017-10-14 15:53:00',\n",
      "               '2017-10-14 16:53:00', '2017-10-14 17:53:00',\n",
      "               '2017-10-14 18:53:00', '2017-10-14 19:53:00',\n",
      "               '2017-10-14 20:53:00', '2017-10-14 21:53:00',\n",
      "               '2017-10-14 22:53:00', '2017-10-14 23:53:00'],\n",
      "              dtype='datetime64[ns]', length=1544, freq=None)\n"
     ]
    },
    {
     "data": {
      "text/html": [
       "<div>\n",
       "<table border=\"1\" class=\"dataframe\">\n",
       "  <thead>\n",
       "    <tr style=\"text-align: right;\">\n",
       "      <th></th>\n",
       "      <th>Temp.</th>\n",
       "      <th>Dew Point</th>\n",
       "      <th>Humidity</th>\n",
       "      <th>Pressure</th>\n",
       "      <th>Visibility</th>\n",
       "      <th>Wind Speed</th>\n",
       "      <th>Gust Speed</th>\n",
       "      <th>Precip</th>\n",
       "    </tr>\n",
       "  </thead>\n",
       "  <tbody>\n",
       "    <tr>\n",
       "      <th>2017-01-01 00:53:00-08:00</th>\n",
       "      <td>36.0 °F</td>\n",
       "      <td>34.0 °F</td>\n",
       "      <td>93%</td>\n",
       "      <td>29.74 in</td>\n",
       "      <td>10.0 mi</td>\n",
       "      <td>6.9 mph</td>\n",
       "      <td>-</td>\n",
       "      <td>NaN</td>\n",
       "    </tr>\n",
       "    <tr>\n",
       "      <th>2017-01-01 01:18:00-08:00</th>\n",
       "      <td>35.1 °F</td>\n",
       "      <td>34.0 °F</td>\n",
       "      <td>96%</td>\n",
       "      <td>29.72 in</td>\n",
       "      <td>10.0 mi</td>\n",
       "      <td>8.1 mph</td>\n",
       "      <td>-</td>\n",
       "      <td>0.01 in</td>\n",
       "    </tr>\n",
       "    <tr>\n",
       "      <th>2017-01-01 01:49:00-08:00</th>\n",
       "      <td>35.6 °F</td>\n",
       "      <td>33.8 °F</td>\n",
       "      <td>93%</td>\n",
       "      <td>29.71 in</td>\n",
       "      <td>10.0 mi</td>\n",
       "      <td>6.9 mph</td>\n",
       "      <td>-</td>\n",
       "      <td>0.01 in</td>\n",
       "    </tr>\n",
       "    <tr>\n",
       "      <th>2017-01-01 01:53:00-08:00</th>\n",
       "      <td>35.1 °F</td>\n",
       "      <td>34.0 °F</td>\n",
       "      <td>96%</td>\n",
       "      <td>29.72 in</td>\n",
       "      <td>10.0 mi</td>\n",
       "      <td>8.1 mph</td>\n",
       "      <td>-</td>\n",
       "      <td>0.01 in</td>\n",
       "    </tr>\n",
       "    <tr>\n",
       "      <th>2017-01-01 02:32:00-08:00</th>\n",
       "      <td>34.0 °F</td>\n",
       "      <td>33.1 °F</td>\n",
       "      <td>96%</td>\n",
       "      <td>29.70 in</td>\n",
       "      <td>10.0 mi</td>\n",
       "      <td>5.8 mph</td>\n",
       "      <td>-</td>\n",
       "      <td>NaN</td>\n",
       "    </tr>\n",
       "  </tbody>\n",
       "</table>\n",
       "</div>"
      ],
      "text/plain": [
       "                             Temp. Dew Point Humidity  Pressure Visibility  \\\n",
       "2017-01-01 00:53:00-08:00  36.0 °F   34.0 °F      93%  29.74 in    10.0 mi   \n",
       "2017-01-01 01:18:00-08:00  35.1 °F   34.0 °F      96%  29.72 in    10.0 mi   \n",
       "2017-01-01 01:49:00-08:00  35.6 °F   33.8 °F      93%  29.71 in    10.0 mi   \n",
       "2017-01-01 01:53:00-08:00  35.1 °F   34.0 °F      96%  29.72 in    10.0 mi   \n",
       "2017-01-01 02:32:00-08:00  34.0 °F   33.1 °F      96%  29.70 in    10.0 mi   \n",
       "\n",
       "                          Wind Speed Gust Speed   Precip  \n",
       "2017-01-01 00:53:00-08:00    6.9 mph          -      NaN  \n",
       "2017-01-01 01:18:00-08:00    8.1 mph          -  0.01 in  \n",
       "2017-01-01 01:49:00-08:00    6.9 mph          -  0.01 in  \n",
       "2017-01-01 01:53:00-08:00    8.1 mph          -  0.01 in  \n",
       "2017-01-01 02:32:00-08:00    5.8 mph          -      NaN  "
      ]
     },
     "execution_count": 6,
     "metadata": {},
     "output_type": "execute_result"
    }
   ],
   "source": [
    "file_WAweather0117 = 'WA_KTIW_20170101_20170114_Weather.csv'\n",
    "WAweather0117 = pd.read_csv(file_WAweather0117, parse_dates = [[0,1]], encoding = 'cp1252')\n",
    "WAweather0117 = WAweather0117.set_index('Date_Time (PST)')\n",
    "\n",
    "file_WAweather0417 = 'WA_KTIW_20170401_20170414_Weather.csv'\n",
    "WAweather0417 = pd.read_csv(file_WAweather0417, parse_dates = [[0,1]], encoding = 'cp1252')\n",
    "WAweather0417 = WAweather0417.set_index('Date_Time (PDT)')\n",
    "\n",
    "file_WAweather0717 = 'WA_KTIW_20170701_20170714_Weather.csv'\n",
    "WAweather0717 = pd.read_csv(file_WAweather0717, parse_dates = [[0,1]], encoding = 'cp1252')\n",
    "WAweather0717 = WAweather0717.set_index('Date_Time (PDT)')\n",
    "\n",
    "file_WAweather1017 = 'WA_KTIW_20171001_20171014_Weather.csv'\n",
    "WAweather1017 = pd.read_csv(file_WAweather1017, parse_dates = [[0,1]], encoding = 'cp1252')\n",
    "WAweather1017 = WAweather1017.set_index('Date_Time (PDT)')\n",
    "\n",
    "WAweather17 = WAweather0117.append(WAweather0417.append(WAweather0717.append(WAweather1017)))\n",
    "print(WAweather17.index)\n",
    "WAweather17.index = pd.to_datetime(WAweather17.index)\n",
    "\n",
    "WAweather17.index = WAweather17.index.tz_localize('US/Pacific')\n",
    "WAweather17.drop( ['Wind Dir','Events','Conditions'], axis = 1, inplace = True)\n",
    "\n",
    "WAweather17.head()"
   ]
  },
  {
   "cell_type": "markdown",
   "metadata": {},
   "source": [
    "## COMBINED"
   ]
  },
  {
   "cell_type": "code",
   "execution_count": 7,
   "metadata": {
    "collapsed": false
   },
   "outputs": [
    {
     "name": "stderr",
     "output_type": "stream",
     "text": [
      "C:\\Users\\joann\\Anaconda3\\lib\\site-packages\\ipykernel\\__main__.py:6: FutureWarning: currently extract(expand=None) means expand=False (return Index/Series/DataFrame) but in a future version of pandas this will be changed to expand=True (return DataFrame)\n",
      "C:\\Users\\joann\\Anaconda3\\lib\\site-packages\\ipykernel\\__main__.py:10: FutureWarning: convert_objects is deprecated.  Use the data-type specific converters pd.to_datetime, pd.to_timedelta and pd.to_numeric.\n",
      "C:\\Users\\joann\\Anaconda3\\lib\\site-packages\\numpy\\core\\numeric.py:301: FutureWarning: in the future, full((1348, 1), 173664) will return an array of dtype('int32')\n",
      "  format(shape, fill_value, array(fill_value).dtype), FutureWarning)\n"
     ]
    },
    {
     "data": {
      "text/html": [
       "<div>\n",
       "<table border=\"1\" class=\"dataframe\">\n",
       "  <thead>\n",
       "    <tr style=\"text-align: right;\">\n",
       "      <th></th>\n",
       "      <th>Demand</th>\n",
       "      <th>Hour</th>\n",
       "      <th>Temp.</th>\n",
       "      <th>Dew Point</th>\n",
       "      <th>Humidity</th>\n",
       "      <th>Pressure</th>\n",
       "      <th>Visibility</th>\n",
       "      <th>Wind Speed</th>\n",
       "      <th>Gust Speed</th>\n",
       "      <th>Precip</th>\n",
       "      <th>Population</th>\n",
       "    </tr>\n",
       "    <tr>\n",
       "      <th>Category</th>\n",
       "      <th></th>\n",
       "      <th></th>\n",
       "      <th></th>\n",
       "      <th></th>\n",
       "      <th></th>\n",
       "      <th></th>\n",
       "      <th></th>\n",
       "      <th></th>\n",
       "      <th></th>\n",
       "      <th></th>\n",
       "      <th></th>\n",
       "    </tr>\n",
       "  </thead>\n",
       "  <tbody>\n",
       "    <tr>\n",
       "      <th>2017-10-15 00:00:00-07:00</th>\n",
       "      <td>489</td>\n",
       "      <td>0</td>\n",
       "      <td>48</td>\n",
       "      <td>44</td>\n",
       "      <td>86</td>\n",
       "      <td>30</td>\n",
       "      <td>10</td>\n",
       "      <td>4</td>\n",
       "      <td>0</td>\n",
       "      <td>0.0</td>\n",
       "      <td>173664.0</td>\n",
       "    </tr>\n",
       "    <tr>\n",
       "      <th>2017-10-14 23:00:00-07:00</th>\n",
       "      <td>514</td>\n",
       "      <td>23</td>\n",
       "      <td>48</td>\n",
       "      <td>42</td>\n",
       "      <td>77</td>\n",
       "      <td>30</td>\n",
       "      <td>10</td>\n",
       "      <td>0</td>\n",
       "      <td>0</td>\n",
       "      <td>0.0</td>\n",
       "      <td>173664.0</td>\n",
       "    </tr>\n",
       "    <tr>\n",
       "      <th>2017-10-14 22:00:00-07:00</th>\n",
       "      <td>537</td>\n",
       "      <td>22</td>\n",
       "      <td>51</td>\n",
       "      <td>39</td>\n",
       "      <td>66</td>\n",
       "      <td>30</td>\n",
       "      <td>10</td>\n",
       "      <td>0</td>\n",
       "      <td>0</td>\n",
       "      <td>0.0</td>\n",
       "      <td>173664.0</td>\n",
       "    </tr>\n",
       "    <tr>\n",
       "      <th>2017-10-14 21:00:00-07:00</th>\n",
       "      <td>557</td>\n",
       "      <td>21</td>\n",
       "      <td>52</td>\n",
       "      <td>39</td>\n",
       "      <td>63</td>\n",
       "      <td>30</td>\n",
       "      <td>10</td>\n",
       "      <td>0</td>\n",
       "      <td>0</td>\n",
       "      <td>0.0</td>\n",
       "      <td>173664.0</td>\n",
       "    </tr>\n",
       "    <tr>\n",
       "      <th>2017-10-14 20:00:00-07:00</th>\n",
       "      <td>569</td>\n",
       "      <td>20</td>\n",
       "      <td>53</td>\n",
       "      <td>41</td>\n",
       "      <td>64</td>\n",
       "      <td>30</td>\n",
       "      <td>10</td>\n",
       "      <td>0</td>\n",
       "      <td>0</td>\n",
       "      <td>0.0</td>\n",
       "      <td>173664.0</td>\n",
       "    </tr>\n",
       "  </tbody>\n",
       "</table>\n",
       "</div>"
      ],
      "text/plain": [
       "                           Demand  Hour  Temp.  Dew Point  Humidity  Pressure  \\\n",
       "Category                                                                        \n",
       "2017-10-15 00:00:00-07:00     489     0     48         44        86        30   \n",
       "2017-10-14 23:00:00-07:00     514    23     48         42        77        30   \n",
       "2017-10-14 22:00:00-07:00     537    22     51         39        66        30   \n",
       "2017-10-14 21:00:00-07:00     557    21     52         39        63        30   \n",
       "2017-10-14 20:00:00-07:00     569    20     53         41        64        30   \n",
       "\n",
       "                           Visibility  Wind Speed  Gust Speed  Precip  \\\n",
       "Category                                                                \n",
       "2017-10-15 00:00:00-07:00          10           4           0     0.0   \n",
       "2017-10-14 23:00:00-07:00          10           0           0     0.0   \n",
       "2017-10-14 22:00:00-07:00          10           0           0     0.0   \n",
       "2017-10-14 21:00:00-07:00          10           0           0     0.0   \n",
       "2017-10-14 20:00:00-07:00          10           0           0     0.0   \n",
       "\n",
       "                           Population  \n",
       "Category                               \n",
       "2017-10-15 00:00:00-07:00    173664.0  \n",
       "2017-10-14 23:00:00-07:00    173664.0  \n",
       "2017-10-14 22:00:00-07:00    173664.0  \n",
       "2017-10-14 21:00:00-07:00    173664.0  \n",
       "2017-10-14 20:00:00-07:00    173664.0  "
      ]
     },
     "execution_count": 7,
     "metadata": {},
     "output_type": "execute_result"
    }
   ],
   "source": [
    "\n",
    "WAweather17 = WAweather17[~WAweather17.index.duplicated(keep='last')]\n",
    "combined_WA17 = WAdemand17.join(WAweather17.reindex(WAdemand17.index.unique(), method='nearest'))\n",
    "for i in range(1,len(combined_WA17.columns.values)-1):\n",
    "    try:\n",
    "        combined_WA17.iloc[:,i] = combined_WA17.iloc[:,i].str.extract('(\\d+)') \n",
    "    except:\n",
    "        continue\n",
    "combined_WA17.fillna(value = 0, inplace = True)\n",
    "combined_WA17 = combined_WA17.convert_objects(convert_numeric=True)\n",
    "combined_WA17['Population'] = np.full((len(combined_WA17),1),int(173664))\n",
    "combined_WA17.rename(index=str, columns={\"TPWR demand megawatthours\": \"Demand\"}, inplace = True)\n",
    "combined_WA17.head()"
   ]
  },
  {
   "cell_type": "markdown",
   "metadata": {},
   "source": [
    "# Tampa"
   ]
  },
  {
   "cell_type": "markdown",
   "metadata": {},
   "source": [
    "## ENERGY"
   ]
  },
  {
   "cell_type": "code",
   "execution_count": 8,
   "metadata": {
    "collapsed": true
   },
   "outputs": [],
   "source": [
    "file_FLdemand0117 = 'FL_TEC_20170101_20170114_Demand.csv'\n",
    "FLdemand0117 = pd.read_csv(file_FLdemand0117, skiprows=[0,1,2,3],index_col=0, usecols=[0,1], parse_dates=[0])\n",
    "\n",
    "file_FLdemand0417 = 'FL_TEC_20170401_20170414_Demand.csv'\n",
    "FLdemand0417 = pd.read_csv(file_FLdemand0417, skiprows=[0,1,2,3],index_col=0, usecols=[0,1], parse_dates=[0])\n",
    "\n",
    "file_FLdemand0717 = 'FL_TEC_20170701_20170714_Demand.csv'\n",
    "FLdemand0717 = pd.read_csv(file_FLdemand0717, skiprows=[0,1,2,3],index_col=0, usecols=[0,1], parse_dates=[0])\n",
    "\n",
    "file_FLdemand1017 = 'FL_TEC_20171001_20171014_Demand.csv'\n",
    "FLdemand1017 = pd.read_csv(file_FLdemand1017, skiprows=[0,1,2,3],index_col=0, usecols=[0,1], parse_dates=[0])\n",
    "\n",
    "FLdemand17 = FLdemand1017.append(FLdemand0717.append(FLdemand0417.append(FLdemand0117)))\n",
    "FLdemand17.index = pd.to_datetime(FLdemand17.index)\n",
    "FLdemand17.index = FLdemand17.index.tz_localize('US/Eastern')\n",
    "FLdemand17['Hour'] = FLdemand17.index.hour"
   ]
  },
  {
   "cell_type": "markdown",
   "metadata": {},
   "source": [
    "## WEATHER"
   ]
  },
  {
   "cell_type": "code",
   "execution_count": 9,
   "metadata": {
    "collapsed": false
   },
   "outputs": [],
   "source": [
    "file_FLweather0117 = 'FL_KTPF_20170101_20170114_Weather.csv'\n",
    "FLweather0117 = pd.read_csv(file_FLweather0117, parse_dates = [[0,1]], encoding = 'cp1252')\n",
    "FLweather0117 = FLweather0117.set_index('Date_Time (EST)')\n",
    "\n",
    "\n",
    "file_FLweather0417 = 'FL_KTPF_20170401_20170414_Weather.csv'\n",
    "FLweather0417 = pd.read_csv(file_FLweather0417, parse_dates = [[0,1]], encoding = 'cp1252')\n",
    "FLweather0417 = FLweather0417.set_index('Date_Time (EDT)')\n",
    "\n",
    "\n",
    "file_FLweather0717 = 'FL_KTPF_20170701_20170714_Weather.csv'\n",
    "FLweather0717 = pd.read_csv(file_FLweather0717, parse_dates = [[0,1]], encoding = 'cp1252')\n",
    "FLweather0717 = FLweather0717.set_index('Date_Time (EDT)')\n",
    "\n",
    "\n",
    "file_FLweather1017 = 'FL_KTPF_20171001_20171014_Weather.csv'\n",
    "FLweather1017 = pd.read_csv(file_FLweather1017, parse_dates = [[0,1]], encoding = 'cp1252')\n",
    "FLweather1017 = FLweather1017.set_index('Date_Time (EDT)')\n",
    "\n",
    "\n",
    "FLweather17 = FLweather0117.append(FLweather0417.append(FLweather0717.append(FLweather1017)))\n",
    "FLweather17.index = pd.to_datetime(FLweather17.index)\n",
    "\n",
    "FLweather17.index = FLweather17.index.tz_localize('US/Eastern')\n",
    "FLweather17.drop( ['Wind Dir','Events','Conditions'], axis = 1, inplace = True)"
   ]
  },
  {
   "cell_type": "markdown",
   "metadata": {
    "collapsed": true
   },
   "source": [
    "## COMBINED"
   ]
  },
  {
   "cell_type": "code",
   "execution_count": 10,
   "metadata": {
    "collapsed": false
   },
   "outputs": [
    {
     "name": "stderr",
     "output_type": "stream",
     "text": [
      "C:\\Users\\joann\\Anaconda3\\lib\\site-packages\\ipykernel\\__main__.py:5: FutureWarning: currently extract(expand=None) means expand=False (return Index/Series/DataFrame) but in a future version of pandas this will be changed to expand=True (return DataFrame)\n",
      "C:\\Users\\joann\\Anaconda3\\lib\\site-packages\\ipykernel\\__main__.py:9: FutureWarning: convert_objects is deprecated.  Use the data-type specific converters pd.to_datetime, pd.to_timedelta and pd.to_numeric.\n",
      "C:\\Users\\joann\\Anaconda3\\lib\\site-packages\\numpy\\core\\numeric.py:301: FutureWarning: in the future, full((1348, 1), 725000) will return an array of dtype('int32')\n",
      "  format(shape, fill_value, array(fill_value).dtype), FutureWarning)\n"
     ]
    },
    {
     "data": {
      "text/html": [
       "<div>\n",
       "<table border=\"1\" class=\"dataframe\">\n",
       "  <thead>\n",
       "    <tr style=\"text-align: right;\">\n",
       "      <th></th>\n",
       "      <th>Demand</th>\n",
       "      <th>Hour</th>\n",
       "      <th>Temp.</th>\n",
       "      <th>Dew Point</th>\n",
       "      <th>Humidity</th>\n",
       "      <th>Pressure</th>\n",
       "      <th>Visibility</th>\n",
       "      <th>Wind Speed</th>\n",
       "      <th>Gust Speed</th>\n",
       "      <th>Precip</th>\n",
       "      <th>Population</th>\n",
       "    </tr>\n",
       "    <tr>\n",
       "      <th>Category</th>\n",
       "      <th></th>\n",
       "      <th></th>\n",
       "      <th></th>\n",
       "      <th></th>\n",
       "      <th></th>\n",
       "      <th></th>\n",
       "      <th></th>\n",
       "      <th></th>\n",
       "      <th></th>\n",
       "      <th></th>\n",
       "      <th></th>\n",
       "    </tr>\n",
       "  </thead>\n",
       "  <tbody>\n",
       "    <tr>\n",
       "      <th>2017-10-15 00:00:00-04:00</th>\n",
       "      <td>2272</td>\n",
       "      <td>0</td>\n",
       "      <td>73</td>\n",
       "      <td>68</td>\n",
       "      <td>83</td>\n",
       "      <td>30</td>\n",
       "      <td>10</td>\n",
       "      <td>5</td>\n",
       "      <td>0</td>\n",
       "      <td>0.0</td>\n",
       "      <td>725000.0</td>\n",
       "    </tr>\n",
       "    <tr>\n",
       "      <th>2017-10-14 23:00:00-04:00</th>\n",
       "      <td>2491</td>\n",
       "      <td>23</td>\n",
       "      <td>73</td>\n",
       "      <td>68</td>\n",
       "      <td>83</td>\n",
       "      <td>30</td>\n",
       "      <td>10</td>\n",
       "      <td>5</td>\n",
       "      <td>0</td>\n",
       "      <td>0.0</td>\n",
       "      <td>725000.0</td>\n",
       "    </tr>\n",
       "    <tr>\n",
       "      <th>2017-10-14 22:00:00-04:00</th>\n",
       "      <td>2691</td>\n",
       "      <td>22</td>\n",
       "      <td>75</td>\n",
       "      <td>68</td>\n",
       "      <td>78</td>\n",
       "      <td>30</td>\n",
       "      <td>10</td>\n",
       "      <td>8</td>\n",
       "      <td>0</td>\n",
       "      <td>0.0</td>\n",
       "      <td>725000.0</td>\n",
       "    </tr>\n",
       "    <tr>\n",
       "      <th>2017-10-14 21:00:00-04:00</th>\n",
       "      <td>2842</td>\n",
       "      <td>21</td>\n",
       "      <td>77</td>\n",
       "      <td>68</td>\n",
       "      <td>74</td>\n",
       "      <td>30</td>\n",
       "      <td>10</td>\n",
       "      <td>5</td>\n",
       "      <td>0</td>\n",
       "      <td>0.0</td>\n",
       "      <td>725000.0</td>\n",
       "    </tr>\n",
       "    <tr>\n",
       "      <th>2017-10-14 20:00:00-04:00</th>\n",
       "      <td>2971</td>\n",
       "      <td>20</td>\n",
       "      <td>78</td>\n",
       "      <td>69</td>\n",
       "      <td>74</td>\n",
       "      <td>30</td>\n",
       "      <td>10</td>\n",
       "      <td>6</td>\n",
       "      <td>0</td>\n",
       "      <td>0.0</td>\n",
       "      <td>725000.0</td>\n",
       "    </tr>\n",
       "  </tbody>\n",
       "</table>\n",
       "</div>"
      ],
      "text/plain": [
       "                           Demand  Hour  Temp.  Dew Point  Humidity  Pressure  \\\n",
       "Category                                                                        \n",
       "2017-10-15 00:00:00-04:00    2272     0     73         68        83        30   \n",
       "2017-10-14 23:00:00-04:00    2491    23     73         68        83        30   \n",
       "2017-10-14 22:00:00-04:00    2691    22     75         68        78        30   \n",
       "2017-10-14 21:00:00-04:00    2842    21     77         68        74        30   \n",
       "2017-10-14 20:00:00-04:00    2971    20     78         69        74        30   \n",
       "\n",
       "                           Visibility  Wind Speed  Gust Speed  Precip  \\\n",
       "Category                                                                \n",
       "2017-10-15 00:00:00-04:00          10           5           0     0.0   \n",
       "2017-10-14 23:00:00-04:00          10           5           0     0.0   \n",
       "2017-10-14 22:00:00-04:00          10           8           0     0.0   \n",
       "2017-10-14 21:00:00-04:00          10           5           0     0.0   \n",
       "2017-10-14 20:00:00-04:00          10           6           0     0.0   \n",
       "\n",
       "                           Population  \n",
       "Category                               \n",
       "2017-10-15 00:00:00-04:00    725000.0  \n",
       "2017-10-14 23:00:00-04:00    725000.0  \n",
       "2017-10-14 22:00:00-04:00    725000.0  \n",
       "2017-10-14 21:00:00-04:00    725000.0  \n",
       "2017-10-14 20:00:00-04:00    725000.0  "
      ]
     },
     "execution_count": 10,
     "metadata": {},
     "output_type": "execute_result"
    }
   ],
   "source": [
    "FLweather17 = FLweather17[~FLweather17.index.duplicated(keep='last')]\n",
    "combined_FL17 = FLdemand17.join(FLweather17.reindex(FLdemand17.index.unique(), method='nearest'))\n",
    "for i in range(1,len(combined_FL17.columns.values)-1):\n",
    "    try:\n",
    "        combined_FL17.iloc[:,i] = combined_FL17.iloc[:,i].str.extract('(\\d+)') \n",
    "    except:\n",
    "        continue\n",
    "combined_FL17.fillna(value = 0, inplace = True)\n",
    "combined_FL17 = combined_FL17.convert_objects(convert_numeric=True)\n",
    "combined_FL17['Population'] = np.full((len(combined_FL17),1),int(725000 ))\n",
    "combined_FL17.rename(index=str, columns={\"TEC demand megawatthours\": \"Demand\"}, inplace = True)\n",
    "combined_FL17.head()"
   ]
  },
  {
   "cell_type": "markdown",
   "metadata": {},
   "source": [
    "# Missouri\n"
   ]
  },
  {
   "cell_type": "markdown",
   "metadata": {},
   "source": [
    "## ENERGY"
   ]
  },
  {
   "cell_type": "code",
   "execution_count": 11,
   "metadata": {
    "collapsed": true
   },
   "outputs": [],
   "source": [
    "file_MOdemand0117 = 'MO_AECI_20170101_20170114_Demand.csv'\n",
    "MOdemand0117 = pd.read_csv(file_MOdemand0117, skiprows=[0,1,2,3],index_col=0, usecols=[0,1], parse_dates=[0])\n",
    "\n",
    "file_MOdemand0417 = 'MO_AECI_20170401_20170414_Demand.csv'\n",
    "MOdemand0417 = pd.read_csv(file_MOdemand0417, skiprows=[0,1,2,3],index_col=0, usecols=[0,1], parse_dates=[0])\n",
    "\n",
    "file_MOdemand0717 = 'MO_AECI_20170701_20170714_Demand.csv'\n",
    "MOdemand0717 = pd.read_csv(file_MOdemand0717, skiprows=[0,1,2,3],index_col=0, usecols=[0,1], parse_dates=[0])\n",
    "\n",
    "file_MOdemand1017 = 'MO_AECI_20171001_20171014_Demand.csv'\n",
    "MOdemand1017 = pd.read_csv(file_MOdemand1017, skiprows=[0,1,2,3],index_col=0, usecols=[0,1], parse_dates=[0])\n",
    "\n",
    "MOdemand17 = MOdemand1017.append(MOdemand0717.append(MOdemand0417.append(MOdemand0117)))\n",
    "MOdemand17.index = pd.to_datetime(MOdemand17.index)\n",
    "MOdemand17.index = MOdemand17.index.tz_localize('US/Central')\n",
    "MOdemand17['Hour'] = MOdemand17.index.hour"
   ]
  },
  {
   "cell_type": "markdown",
   "metadata": {},
   "source": [
    "## WEATHER"
   ]
  },
  {
   "cell_type": "code",
   "execution_count": 12,
   "metadata": {
    "collapsed": false
   },
   "outputs": [],
   "source": [
    "file_MOweather0117 = 'MO_KJEF_20170101_20170114_Weather.csv'\n",
    "MOweather0117 = pd.read_csv(file_MOweather0117, parse_dates = [[0,1]], encoding = 'cp1252')\n",
    "MOweather0117 = MOweather0117.set_index('Date_Time (CST)')\n",
    "\n",
    "file_MOweather0417 = 'MO_KJEF_20170401_20170414_Weather.csv'\n",
    "MOweather0417 = pd.read_csv(file_MOweather0417, parse_dates = [[0,1]], encoding = 'cp1252')\n",
    "MOweather0417 = MOweather0417.set_index('Date_Time (CDT)')\n",
    "\n",
    "file_MOweather0717 = 'MO_KJEF_20170701_20170714_Weather.csv'\n",
    "MOweather0717 = pd.read_csv(file_MOweather0717, parse_dates = [[0,1]], encoding = 'cp1252')\n",
    "MOweather0717 = MOweather0717.set_index('Date_Time (CDT)')\n",
    "\n",
    "file_MOweather1017 = 'MO_KJEF_20171001_20171014_Weather.csv'\n",
    "MOweather1017 = pd.read_csv(file_MOweather1017, parse_dates = [[0,1]], encoding = 'cp1252')\n",
    "MOweather1017 = MOweather1017.set_index('Date_Time (CDT)')\n",
    "\n",
    "MOweather17 = MOweather0117.append(MOweather0417.append(MOweather0717.append(MOweather1017)))\n",
    "MOweather17.index = pd.to_datetime(MOweather17.index)\n",
    "MOweather17.index = MOweather17.index.tz_localize('US/Central')\n",
    "MOweather17.drop( ['Wind Dir','Events','Conditions'], axis = 1, inplace = True)"
   ]
  },
  {
   "cell_type": "markdown",
   "metadata": {},
   "source": [
    "## COMBINED"
   ]
  },
  {
   "cell_type": "code",
   "execution_count": 13,
   "metadata": {
    "collapsed": false
   },
   "outputs": [
    {
     "name": "stderr",
     "output_type": "stream",
     "text": [
      "C:\\Users\\joann\\Anaconda3\\lib\\site-packages\\ipykernel\\__main__.py:5: FutureWarning: currently extract(expand=None) means expand=False (return Index/Series/DataFrame) but in a future version of pandas this will be changed to expand=True (return DataFrame)\n",
      "C:\\Users\\joann\\Anaconda3\\lib\\site-packages\\ipykernel\\__main__.py:9: FutureWarning: convert_objects is deprecated.  Use the data-type specific converters pd.to_datetime, pd.to_timedelta and pd.to_numeric.\n",
      "C:\\Users\\joann\\Anaconda3\\lib\\site-packages\\numpy\\core\\numeric.py:301: FutureWarning: in the future, full((1348, 1), 910000) will return an array of dtype('int32')\n",
      "  format(shape, fill_value, array(fill_value).dtype), FutureWarning)\n"
     ]
    },
    {
     "data": {
      "text/html": [
       "<div>\n",
       "<table border=\"1\" class=\"dataframe\">\n",
       "  <thead>\n",
       "    <tr style=\"text-align: right;\">\n",
       "      <th></th>\n",
       "      <th>Demand</th>\n",
       "      <th>Hour</th>\n",
       "      <th>Temp.</th>\n",
       "      <th>Dew Point</th>\n",
       "      <th>Humidity</th>\n",
       "      <th>Pressure</th>\n",
       "      <th>Visibility</th>\n",
       "      <th>Wind Speed</th>\n",
       "      <th>Gust Speed</th>\n",
       "      <th>Precip</th>\n",
       "      <th>Population</th>\n",
       "    </tr>\n",
       "    <tr>\n",
       "      <th>Category</th>\n",
       "      <th></th>\n",
       "      <th></th>\n",
       "      <th></th>\n",
       "      <th></th>\n",
       "      <th></th>\n",
       "      <th></th>\n",
       "      <th></th>\n",
       "      <th></th>\n",
       "      <th></th>\n",
       "      <th></th>\n",
       "      <th></th>\n",
       "    </tr>\n",
       "  </thead>\n",
       "  <tbody>\n",
       "    <tr>\n",
       "      <th>2017-10-15 00:00:00-05:00</th>\n",
       "      <td>2001</td>\n",
       "      <td>0</td>\n",
       "      <td>69</td>\n",
       "      <td>64</td>\n",
       "      <td>84</td>\n",
       "      <td>29</td>\n",
       "      <td>4</td>\n",
       "      <td>8</td>\n",
       "      <td>0</td>\n",
       "      <td>NaN</td>\n",
       "      <td>910000.0</td>\n",
       "    </tr>\n",
       "    <tr>\n",
       "      <th>2017-10-14 23:00:00-05:00</th>\n",
       "      <td>2184</td>\n",
       "      <td>23</td>\n",
       "      <td>69</td>\n",
       "      <td>64</td>\n",
       "      <td>87</td>\n",
       "      <td>29</td>\n",
       "      <td>10</td>\n",
       "      <td>3</td>\n",
       "      <td>0</td>\n",
       "      <td>0.0</td>\n",
       "      <td>910000.0</td>\n",
       "    </tr>\n",
       "    <tr>\n",
       "      <th>2017-10-14 22:00:00-05:00</th>\n",
       "      <td>2380</td>\n",
       "      <td>22</td>\n",
       "      <td>73</td>\n",
       "      <td>66</td>\n",
       "      <td>76</td>\n",
       "      <td>29</td>\n",
       "      <td>10</td>\n",
       "      <td>5</td>\n",
       "      <td>0</td>\n",
       "      <td>0.0</td>\n",
       "      <td>910000.0</td>\n",
       "    </tr>\n",
       "    <tr>\n",
       "      <th>2017-10-14 21:00:00-05:00</th>\n",
       "      <td>2503</td>\n",
       "      <td>21</td>\n",
       "      <td>75</td>\n",
       "      <td>64</td>\n",
       "      <td>71</td>\n",
       "      <td>29</td>\n",
       "      <td>10</td>\n",
       "      <td>5</td>\n",
       "      <td>0</td>\n",
       "      <td>0.0</td>\n",
       "      <td>910000.0</td>\n",
       "    </tr>\n",
       "    <tr>\n",
       "      <th>2017-10-14 20:00:00-05:00</th>\n",
       "      <td>2698</td>\n",
       "      <td>20</td>\n",
       "      <td>80</td>\n",
       "      <td>63</td>\n",
       "      <td>56</td>\n",
       "      <td>29</td>\n",
       "      <td>10</td>\n",
       "      <td>0</td>\n",
       "      <td>0</td>\n",
       "      <td>0.0</td>\n",
       "      <td>910000.0</td>\n",
       "    </tr>\n",
       "  </tbody>\n",
       "</table>\n",
       "</div>"
      ],
      "text/plain": [
       "                           Demand  Hour  Temp.  Dew Point  Humidity  Pressure  \\\n",
       "Category                                                                        \n",
       "2017-10-15 00:00:00-05:00    2001     0     69         64        84        29   \n",
       "2017-10-14 23:00:00-05:00    2184    23     69         64        87        29   \n",
       "2017-10-14 22:00:00-05:00    2380    22     73         66        76        29   \n",
       "2017-10-14 21:00:00-05:00    2503    21     75         64        71        29   \n",
       "2017-10-14 20:00:00-05:00    2698    20     80         63        56        29   \n",
       "\n",
       "                           Visibility  Wind Speed  Gust Speed  Precip  \\\n",
       "Category                                                                \n",
       "2017-10-15 00:00:00-05:00           4           8           0     NaN   \n",
       "2017-10-14 23:00:00-05:00          10           3           0     0.0   \n",
       "2017-10-14 22:00:00-05:00          10           5           0     0.0   \n",
       "2017-10-14 21:00:00-05:00          10           5           0     0.0   \n",
       "2017-10-14 20:00:00-05:00          10           0           0     0.0   \n",
       "\n",
       "                           Population  \n",
       "Category                               \n",
       "2017-10-15 00:00:00-05:00    910000.0  \n",
       "2017-10-14 23:00:00-05:00    910000.0  \n",
       "2017-10-14 22:00:00-05:00    910000.0  \n",
       "2017-10-14 21:00:00-05:00    910000.0  \n",
       "2017-10-14 20:00:00-05:00    910000.0  "
      ]
     },
     "execution_count": 13,
     "metadata": {},
     "output_type": "execute_result"
    }
   ],
   "source": [
    "MOweather17 = MOweather17[~MOweather17.index.duplicated(keep='last')]\n",
    "combined_MO17 = MOdemand17.join(MOweather17.reindex(MOdemand17.index.unique(), method='nearest'))\n",
    "for i in range(1,len(combined_MO17.columns.values)-1):\n",
    "    try:\n",
    "        combined_MO17.iloc[:,i] = combined_MO17.iloc[:,i].str.extract('(\\d+)') \n",
    "    except:\n",
    "        continue\n",
    "combined_MO17.fillna(value = 0, inplace = True)\n",
    "combined_MO17 = combined_MO17.convert_objects(convert_numeric=True)\n",
    "combined_MO17['Population'] = np.full((len(combined_MO17),1),int(910000))\n",
    "combined_MO17.rename(index=str, columns={\"AECI demand megawatthours\": \"Demand\"}, inplace = True)\n",
    "combined_MO17.head()"
   ]
  },
  {
   "cell_type": "markdown",
   "metadata": {},
   "source": [
    "# New Mexico"
   ]
  },
  {
   "cell_type": "markdown",
   "metadata": {},
   "source": [
    "## ENERGY"
   ]
  },
  {
   "cell_type": "code",
   "execution_count": 14,
   "metadata": {
    "collapsed": true
   },
   "outputs": [],
   "source": [
    "file_NMdemand0117 = 'NM_PNM_20170101_20170114_Demand.csv'\n",
    "NMdemand0117 = pd.read_csv(file_NMdemand0117, skiprows=[0,1,2,3],index_col=0, usecols=[0,1], parse_dates=[0])\n",
    "\n",
    "file_NMdemand0417 = 'NM_PNM_20170401_20170414_Demand.csv'\n",
    "NMdemand0417 = pd.read_csv(file_NMdemand0417, skiprows=[0,1,2,3],index_col=0, usecols=[0,1], parse_dates=[0])\n",
    "\n",
    "file_NMdemand0717 = 'NM_PNM_20170701_20170714_Demand.csv'\n",
    "NMdemand0717 = pd.read_csv(file_NMdemand0717, skiprows=[0,1,2,3],index_col=0, usecols=[0,1], parse_dates=[0])\n",
    "\n",
    "file_NMdemand1017 = 'NM_PNM_20171001_20171014_Demand.csv'\n",
    "NMdemand1017 = pd.read_csv(file_NMdemand1017, skiprows=[0,1,2,3],index_col=0, usecols=[0,1], parse_dates=[0])\n",
    "\n",
    "NMdemand17 = NMdemand1017.append(NMdemand0717.append(NMdemand0417.append(NMdemand0117)))\n",
    "NMdemand17.index = pd.to_datetime(NMdemand17.index)\n",
    "NMdemand17.index = NMdemand17.index.tz_localize('US/Mountain')\n",
    "NMdemand17['Hour'] = NMdemand17.index.hour"
   ]
  },
  {
   "cell_type": "markdown",
   "metadata": {},
   "source": [
    "## WEATHER"
   ]
  },
  {
   "cell_type": "code",
   "execution_count": 15,
   "metadata": {
    "collapsed": true
   },
   "outputs": [],
   "source": [
    "file_NMweather0117 = 'NM_KABQ_20170101_20170114_Weather.csv'\n",
    "NMweather0117 = pd.read_csv(file_NMweather0117, parse_dates = [[0,1]], encoding = 'cp1252')\n",
    "NMweather0117 = NMweather0117.set_index('Date_Time (MST)')\n",
    "\n",
    "file_NMweather0417 = 'NM_KABQ_20170401_20170414_Weather.csv'\n",
    "NMweather0417 = pd.read_csv(file_NMweather0417, parse_dates = [[0,1]], encoding = 'cp1252')\n",
    "NMweather0417 = NMweather0417.set_index('Date_Time (MDT)')\n",
    "\n",
    "file_NMweather0717 = 'NM_KABQ_20170701_20170714_Weather.csv'\n",
    "NMweather0717 = pd.read_csv(file_NMweather0717, parse_dates = [[0,1]], encoding = 'cp1252')\n",
    "NMweather0717 = NMweather0717.set_index('Date_Time (MDT)')\n",
    "\n",
    "file_NMweather1017 = 'NM_KABQ_20171001_20171014_Weather.csv'\n",
    "NMweather1017 = pd.read_csv(file_NMweather1017, parse_dates = [[0,1]], encoding = 'cp1252')\n",
    "NMweather1017 = NMweather1017.set_index('Date_Time (MDT)')\n",
    "\n",
    "NMweather17 = NMweather0117.append(NMweather0417.append(NMweather0717.append(NMweather1017)))\n",
    "NMweather17.index = pd.to_datetime(NMweather17.index)\n",
    "NMweather17.index = NMweather17.index.tz_localize('US/Mountain')\n",
    "NMweather17.drop( ['Wind Dir','Events','Conditions'], axis = 1, inplace = True)"
   ]
  },
  {
   "cell_type": "markdown",
   "metadata": {},
   "source": [
    "## COMBINED"
   ]
  },
  {
   "cell_type": "code",
   "execution_count": 16,
   "metadata": {
    "collapsed": false
   },
   "outputs": [
    {
     "name": "stderr",
     "output_type": "stream",
     "text": [
      "C:\\Users\\joann\\Anaconda3\\lib\\site-packages\\ipykernel\\__main__.py:5: FutureWarning: currently extract(expand=None) means expand=False (return Index/Series/DataFrame) but in a future version of pandas this will be changed to expand=True (return DataFrame)\n",
      "C:\\Users\\joann\\Anaconda3\\lib\\site-packages\\ipykernel\\__main__.py:9: FutureWarning: convert_objects is deprecated.  Use the data-type specific converters pd.to_datetime, pd.to_timedelta and pd.to_numeric.\n",
      "C:\\Users\\joann\\Anaconda3\\lib\\site-packages\\numpy\\core\\numeric.py:301: FutureWarning: in the future, full((1348, 1), 500000) will return an array of dtype('int32')\n",
      "  format(shape, fill_value, array(fill_value).dtype), FutureWarning)\n"
     ]
    },
    {
     "data": {
      "text/html": [
       "<div>\n",
       "<table border=\"1\" class=\"dataframe\">\n",
       "  <thead>\n",
       "    <tr style=\"text-align: right;\">\n",
       "      <th></th>\n",
       "      <th>Demand</th>\n",
       "      <th>Hour</th>\n",
       "      <th>Temp.</th>\n",
       "      <th>Dew Point</th>\n",
       "      <th>Humidity</th>\n",
       "      <th>Pressure</th>\n",
       "      <th>Visibility</th>\n",
       "      <th>Wind Speed</th>\n",
       "      <th>Gust Speed</th>\n",
       "      <th>Precip</th>\n",
       "      <th>Population</th>\n",
       "    </tr>\n",
       "    <tr>\n",
       "      <th>Category</th>\n",
       "      <th></th>\n",
       "      <th></th>\n",
       "      <th></th>\n",
       "      <th></th>\n",
       "      <th></th>\n",
       "      <th></th>\n",
       "      <th></th>\n",
       "      <th></th>\n",
       "      <th></th>\n",
       "      <th></th>\n",
       "      <th></th>\n",
       "    </tr>\n",
       "  </thead>\n",
       "  <tbody>\n",
       "    <tr>\n",
       "      <th>2017-10-15 00:00:00-06:00</th>\n",
       "      <td>1333</td>\n",
       "      <td>0</td>\n",
       "      <td>57</td>\n",
       "      <td>10</td>\n",
       "      <td>15</td>\n",
       "      <td>30</td>\n",
       "      <td>10</td>\n",
       "      <td>15</td>\n",
       "      <td>0</td>\n",
       "      <td>0.0</td>\n",
       "      <td>500000.0</td>\n",
       "    </tr>\n",
       "    <tr>\n",
       "      <th>2017-10-14 23:00:00-06:00</th>\n",
       "      <td>1422</td>\n",
       "      <td>23</td>\n",
       "      <td>60</td>\n",
       "      <td>9</td>\n",
       "      <td>13</td>\n",
       "      <td>30</td>\n",
       "      <td>10</td>\n",
       "      <td>15</td>\n",
       "      <td>0</td>\n",
       "      <td>0.0</td>\n",
       "      <td>500000.0</td>\n",
       "    </tr>\n",
       "    <tr>\n",
       "      <th>2017-10-14 22:00:00-06:00</th>\n",
       "      <td>1508</td>\n",
       "      <td>22</td>\n",
       "      <td>62</td>\n",
       "      <td>10</td>\n",
       "      <td>13</td>\n",
       "      <td>30</td>\n",
       "      <td>10</td>\n",
       "      <td>12</td>\n",
       "      <td>0</td>\n",
       "      <td>0.0</td>\n",
       "      <td>500000.0</td>\n",
       "    </tr>\n",
       "    <tr>\n",
       "      <th>2017-10-14 21:00:00-06:00</th>\n",
       "      <td>1568</td>\n",
       "      <td>21</td>\n",
       "      <td>64</td>\n",
       "      <td>12</td>\n",
       "      <td>14</td>\n",
       "      <td>30</td>\n",
       "      <td>10</td>\n",
       "      <td>11</td>\n",
       "      <td>0</td>\n",
       "      <td>0.0</td>\n",
       "      <td>500000.0</td>\n",
       "    </tr>\n",
       "    <tr>\n",
       "      <th>2017-10-14 20:00:00-06:00</th>\n",
       "      <td>1608</td>\n",
       "      <td>20</td>\n",
       "      <td>68</td>\n",
       "      <td>12</td>\n",
       "      <td>12</td>\n",
       "      <td>30</td>\n",
       "      <td>10</td>\n",
       "      <td>11</td>\n",
       "      <td>0</td>\n",
       "      <td>0.0</td>\n",
       "      <td>500000.0</td>\n",
       "    </tr>\n",
       "  </tbody>\n",
       "</table>\n",
       "</div>"
      ],
      "text/plain": [
       "                           Demand  Hour  Temp.  Dew Point  Humidity  Pressure  \\\n",
       "Category                                                                        \n",
       "2017-10-15 00:00:00-06:00    1333     0     57         10        15        30   \n",
       "2017-10-14 23:00:00-06:00    1422    23     60          9        13        30   \n",
       "2017-10-14 22:00:00-06:00    1508    22     62         10        13        30   \n",
       "2017-10-14 21:00:00-06:00    1568    21     64         12        14        30   \n",
       "2017-10-14 20:00:00-06:00    1608    20     68         12        12        30   \n",
       "\n",
       "                           Visibility  Wind Speed  Gust Speed  Precip  \\\n",
       "Category                                                                \n",
       "2017-10-15 00:00:00-06:00          10          15           0     0.0   \n",
       "2017-10-14 23:00:00-06:00          10          15           0     0.0   \n",
       "2017-10-14 22:00:00-06:00          10          12           0     0.0   \n",
       "2017-10-14 21:00:00-06:00          10          11           0     0.0   \n",
       "2017-10-14 20:00:00-06:00          10          11           0     0.0   \n",
       "\n",
       "                           Population  \n",
       "Category                               \n",
       "2017-10-15 00:00:00-06:00    500000.0  \n",
       "2017-10-14 23:00:00-06:00    500000.0  \n",
       "2017-10-14 22:00:00-06:00    500000.0  \n",
       "2017-10-14 21:00:00-06:00    500000.0  \n",
       "2017-10-14 20:00:00-06:00    500000.0  "
      ]
     },
     "execution_count": 16,
     "metadata": {},
     "output_type": "execute_result"
    }
   ],
   "source": [
    "NMweather17 = NMweather17[~NMweather17.index.duplicated(keep='last')]\n",
    "combined_NM17 = NMdemand17.join(NMweather17.reindex(NMdemand17.index.unique(), method='nearest'))\n",
    "for i in range(1,len(combined_NM17.columns.values)-1):\n",
    "    try:\n",
    "        combined_NM17.iloc[:,i] = combined_NM17.iloc[:,i].str.extract('(\\d+)') \n",
    "    except:\n",
    "        continue\n",
    "combined_NM17.fillna(value = 0, inplace = True)\n",
    "combined_NM17 = combined_NM17.convert_objects(convert_numeric=True)\n",
    "combined_NM17['Population'] = np.full((len(combined_NM17),1),int(500000))\n",
    "combined_NM17.rename(index=str, columns={\"PNM demand megawatthours\": \"Demand\"}, inplace = True)\n",
    "combined_NM17.head()"
   ]
  },
  {
   "cell_type": "code",
   "execution_count": 17,
   "metadata": {
    "collapsed": false
   },
   "outputs": [],
   "source": [
    "'''\n",
    "Appending all dataframes\n",
    "'''\n",
    "raw_set = combined_LA17.append(combined_WA17.append(combined_FL17.append(combined_MO17.append(combined_NM17))))\n",
    "\n",
    "#raw_set.to_csv('all_data.csv')"
   ]
  },
  {
   "cell_type": "code",
   "execution_count": 18,
   "metadata": {
    "collapsed": true
   },
   "outputs": [],
   "source": [
    "#raw_set = pd.read_csv('all_data.csv')"
   ]
  },
  {
   "cell_type": "markdown",
   "metadata": {
    "collapsed": true
   },
   "source": [
    "## Part 2: Modeling\n",
    "### Option 1: Gaussian Process Regression\n",
    "Gaussian Processes (GP) are a generic supervised learning method designed to solve regression and probabilistic classification problems. In a Gaussian Process regression, inputs that are judged to be close to each other as a result of the covariance function are likely to have similar outputs. A prediction is made by considering the covariance between the predictive case and all the training cases"
   ]
  },
  {
   "cell_type": "code",
   "execution_count": 19,
   "metadata": {
    "collapsed": false
   },
   "outputs": [
    {
     "name": "stderr",
     "output_type": "stream",
     "text": [
      "C:\\Users\\joann\\Anaconda3\\lib\\site-packages\\sklearn\\cross_validation.py:44: DeprecationWarning: This module was deprecated in version 0.18 in favor of the model_selection module into which all the refactored classes and functions are moved. Also note that the interface of the new CV iterators are different from that of this module. This module will be removed in 0.20.\n",
      "  \"This module will be removed in 0.20.\", DeprecationWarning)\n"
     ]
    }
   ],
   "source": [
    "%matplotlib inline \n",
    "import sklearn.decomposition\n",
    "import sklearn.metrics\n",
    "from sklearn import gaussian_process\n",
    "from sklearn import cross_validation\n",
    "from sklearn.model_selection import train_test_split"
   ]
  },
  {
   "cell_type": "code",
   "execution_count": 20,
   "metadata": {
    "collapsed": true
   },
   "outputs": [],
   "source": [
    "\"\"\"\n",
    "Modified gaussian_process.py at line 311 to account for multiple input with same target value issue\n",
    "\"\"\"\n",
    "def predict(theta, nugget, trainX, trainY, testX, testY, testSet):\n",
    "\n",
    "    gp = gaussian_process.GaussianProcess(theta0=theta, nugget=nugget)\n",
    "    gp.fit(trainX, trainY)\n",
    "\n",
    "\n",
    "\n",
    "    predictedY, MSE = gp.predict(testX, eval_MSE = True)\n",
    "    sigma = np.sqrt(MSE)\n",
    "\n",
    "    results = testSet.copy()\n",
    "    results['predictedY'] = predictedY\n",
    "    results['sigma'] = sigma\n",
    "\n",
    "    print (\"Train score R2:\", gp.score(trainX, trainY))\n",
    "    print (\"Test score R2:\", sklearn.metrics.r2_score(testY, predictedY))\n",
    "\n",
    "    return gp, results"
   ]
  },
  {
   "cell_type": "code",
   "execution_count": 21,
   "metadata": {
    "collapsed": false
   },
   "outputs": [
    {
     "name": "stderr",
     "output_type": "stream",
     "text": [
      "C:\\Users\\joann\\Anaconda3\\lib\\site-packages\\sklearn\\utils\\deprecation.py:52: DeprecationWarning: Class GaussianProcess is deprecated; GaussianProcess was deprecated in version 0.18 and will be removed in 0.20. Use the GaussianProcessRegressor instead.\n",
      "  warnings.warn(msg, category=DeprecationWarning)\n",
      "C:\\Users\\joann\\Anaconda3\\lib\\site-packages\\sklearn\\utils\\deprecation.py:70: DeprecationWarning: Function l1_cross_distances is deprecated; l1_cross_distances was deprecated in version 0.18 and will be removed in 0.20.\n",
      "  warnings.warn(msg, category=DeprecationWarning)\n"
     ]
    },
    {
     "ename": "Exception",
     "evalue": "Multiple input features cannot have the same target value.",
     "output_type": "error",
     "traceback": [
      "\u001b[0;31m---------------------------------------------------------------------------\u001b[0m",
      "\u001b[0;31mException\u001b[0m                                 Traceback (most recent call last)",
      "\u001b[0;32m<ipython-input-21-c6564bc88a08>\u001b[0m in \u001b[0;36m<module>\u001b[0;34m()\u001b[0m\n\u001b[1;32m      4\u001b[0m \u001b[0mraw_set\u001b[0m \u001b[1;33m=\u001b[0m \u001b[0mraw_set\u001b[0m\u001b[1;33m[\u001b[0m\u001b[1;33m~\u001b[0m\u001b[0mraw_set\u001b[0m\u001b[1;33m.\u001b[0m\u001b[0mindex\u001b[0m\u001b[1;33m.\u001b[0m\u001b[0mduplicated\u001b[0m\u001b[1;33m(\u001b[0m\u001b[1;33m)\u001b[0m\u001b[1;33m]\u001b[0m\u001b[1;33m\u001b[0m\u001b[0m\n\u001b[1;32m      5\u001b[0m \u001b[0mtrainX\u001b[0m\u001b[1;33m,\u001b[0m \u001b[0mtestX\u001b[0m\u001b[1;33m,\u001b[0m \u001b[0mtrainY\u001b[0m\u001b[1;33m,\u001b[0m \u001b[0mtestY\u001b[0m \u001b[1;33m=\u001b[0m \u001b[0mtrain_test_split\u001b[0m\u001b[1;33m(\u001b[0m\u001b[0mraw_set\u001b[0m\u001b[1;33m.\u001b[0m\u001b[0mdrop\u001b[0m\u001b[1;33m(\u001b[0m\u001b[1;34m'Demand'\u001b[0m\u001b[1;33m,\u001b[0m \u001b[0maxis\u001b[0m \u001b[1;33m=\u001b[0m \u001b[1;36m1\u001b[0m\u001b[1;33m)\u001b[0m\u001b[1;33m.\u001b[0m\u001b[0mfillna\u001b[0m\u001b[1;33m(\u001b[0m\u001b[1;36m0\u001b[0m\u001b[1;33m)\u001b[0m\u001b[1;33m,\u001b[0m \u001b[0mraw_set\u001b[0m\u001b[1;33m[\u001b[0m\u001b[1;34m'Demand'\u001b[0m\u001b[1;33m]\u001b[0m\u001b[1;33m,\u001b[0m \u001b[0mtest_size\u001b[0m\u001b[1;33m=\u001b[0m\u001b[1;36m0.33\u001b[0m\u001b[1;33m,\u001b[0m \u001b[0mrandom_state\u001b[0m\u001b[1;33m=\u001b[0m\u001b[1;36m42\u001b[0m\u001b[1;33m)\u001b[0m\u001b[1;33m\u001b[0m\u001b[0m\n\u001b[0;32m----> 6\u001b[0;31m \u001b[0mgp_price\u001b[0m\u001b[1;33m,\u001b[0m \u001b[0mresults_price\u001b[0m \u001b[1;33m=\u001b[0m \u001b[0mpredict\u001b[0m\u001b[1;33m(\u001b[0m\u001b[1;36m100\u001b[0m\u001b[1;33m,\u001b[0m \u001b[1;36m10\u001b[0m\u001b[1;33m,\u001b[0m \u001b[0mtrainX\u001b[0m\u001b[1;33m,\u001b[0m \u001b[0mtrainY\u001b[0m\u001b[1;33m,\u001b[0m \u001b[0mtestX\u001b[0m\u001b[1;33m,\u001b[0m \u001b[0mtestY\u001b[0m\u001b[1;33m,\u001b[0m \u001b[0mpd\u001b[0m\u001b[1;33m.\u001b[0m\u001b[0mconcat\u001b[0m\u001b[1;33m(\u001b[0m\u001b[1;33m(\u001b[0m\u001b[0mtestX\u001b[0m\u001b[1;33m,\u001b[0m\u001b[0mtestY\u001b[0m\u001b[1;33m)\u001b[0m\u001b[1;33m,\u001b[0m \u001b[0maxis\u001b[0m\u001b[1;33m=\u001b[0m\u001b[1;36m1\u001b[0m\u001b[1;33m)\u001b[0m \u001b[1;33m)\u001b[0m\u001b[1;33m\u001b[0m\u001b[0m\n\u001b[0m\u001b[1;32m      7\u001b[0m \u001b[1;33m\u001b[0m\u001b[0m\n\u001b[1;32m      8\u001b[0m \u001b[1;31m# print(testX)\u001b[0m\u001b[1;33m\u001b[0m\u001b[1;33m\u001b[0m\u001b[0m\n",
      "\u001b[0;32m<ipython-input-20-28e75baabe46>\u001b[0m in \u001b[0;36mpredict\u001b[0;34m(theta, nugget, trainX, trainY, testX, testY, testSet)\u001b[0m\n\u001b[1;32m      5\u001b[0m \u001b[1;33m\u001b[0m\u001b[0m\n\u001b[1;32m      6\u001b[0m     \u001b[0mgp\u001b[0m \u001b[1;33m=\u001b[0m \u001b[0mgaussian_process\u001b[0m\u001b[1;33m.\u001b[0m\u001b[0mGaussianProcess\u001b[0m\u001b[1;33m(\u001b[0m\u001b[0mtheta0\u001b[0m\u001b[1;33m=\u001b[0m\u001b[0mtheta\u001b[0m\u001b[1;33m,\u001b[0m \u001b[0mnugget\u001b[0m\u001b[1;33m=\u001b[0m\u001b[0mnugget\u001b[0m\u001b[1;33m)\u001b[0m\u001b[1;33m\u001b[0m\u001b[0m\n\u001b[0;32m----> 7\u001b[0;31m     \u001b[0mgp\u001b[0m\u001b[1;33m.\u001b[0m\u001b[0mfit\u001b[0m\u001b[1;33m(\u001b[0m\u001b[0mtrainX\u001b[0m\u001b[1;33m,\u001b[0m \u001b[0mtrainY\u001b[0m\u001b[1;33m)\u001b[0m\u001b[1;33m\u001b[0m\u001b[0m\n\u001b[0m\u001b[1;32m      8\u001b[0m \u001b[1;33m\u001b[0m\u001b[0m\n\u001b[1;32m      9\u001b[0m \u001b[1;33m\u001b[0m\u001b[0m\n",
      "\u001b[0;32mC:\\Users\\joann\\Anaconda3\\lib\\site-packages\\sklearn\\gaussian_process\\gaussian_process.py\u001b[0m in \u001b[0;36mfit\u001b[0;34m(self, X, y)\u001b[0m\n\u001b[1;32m    309\u001b[0m         if (np.min(np.sum(D, axis=1)) == 0.\n\u001b[1;32m    310\u001b[0m                 and self.corr != correlation.pure_nugget):\n\u001b[0;32m--> 311\u001b[0;31m             raise Exception(\"Multiple input features cannot have the same\"\n\u001b[0m\u001b[1;32m    312\u001b[0m                             \" target value.\")\n\u001b[1;32m    313\u001b[0m \u001b[1;33m\u001b[0m\u001b[0m\n",
      "\u001b[0;31mException\u001b[0m: Multiple input features cannot have the same target value."
     ]
    }
   ],
   "source": [
    "raw_set = combined_LA17.append(combined_WA17.append(combined_FL17.append(combined_MO17.append(combined_NM17))))\n",
    "\n",
    "raw_set.drop_duplicates(subset = ['Demand'],inplace = True)\n",
    "raw_set = raw_set[~raw_set.index.duplicated()]\n",
    "trainX, testX, trainY, testY = train_test_split(raw_set.drop('Demand', axis = 1).fillna(0), raw_set['Demand'], test_size=0.33, random_state=42)\n",
    "gp_price, results_price = predict(100, 10, trainX, trainY, testX, testY, pd.concat((testX,testY), axis=1) )\n",
    "\n",
    "# print(testX)\n",
    "# print(testY)"
   ]
  },
  {
   "cell_type": "markdown",
   "metadata": {},
   "source": [
    "### Option 2: Linear Regression"
   ]
  },
  {
   "cell_type": "code",
   "execution_count": null,
   "metadata": {
    "collapsed": true
   },
   "outputs": [],
   "source": [
    "from sklearn.linear_model import LinearRegression\n",
    "from sklearn.model_selection import train_test_split"
   ]
  },
  {
   "cell_type": "code",
   "execution_count": null,
   "metadata": {
    "collapsed": false
   },
   "outputs": [],
   "source": [
    "raw_set = combined_LA17.append(combined_WA17.append(combined_FL17.append(combined_MO17.append(combined_NM17))))\n",
    "trainX, testX, trainY, testY = train_test_split(raw_set.drop('Demand', axis = 1).fillna(0), raw_set['Demand'], test_size=0.33, random_state=42)\n",
    "\n",
    "lr = LinearRegression()\n",
    "lr.fit(trainX, trainY)\n",
    "y_lr = lr.predict(testX)\n",
    "print (\"The test score R2: \", lr.score(testX, testY))\n",
    "print (\"The Linear Regression coefficients are\")\n",
    "pd.DataFrame(list(zip(trainX.columns.values, lr.coef_)), columns = ['elect_features', 'linearRegr_Coefficients'])"
   ]
  },
  {
   "cell_type": "code",
   "execution_count": null,
   "metadata": {
    "collapsed": false
   },
   "outputs": [],
   "source": [
    "plt.scatter(testY,y_lr)\n",
    "plt.plot(testY,testY)\n",
    "plt.xlabel('Actual Demand (MW hr)')\n",
    "plt.ylabel('Predicted Demand (MW hr)')"
   ]
  },
  {
   "cell_type": "markdown",
   "metadata": {},
   "source": [
    "### Option 3: Random Forests Regression\n",
    "Not able to get an acceptable score"
   ]
  },
  {
   "cell_type": "code",
   "execution_count": null,
   "metadata": {
    "collapsed": true
   },
   "outputs": [],
   "source": [
    "from sklearn.ensemble import RandomForestRegressor\n",
    "from sklearn.cross_validation import cross_val_score\n",
    "import seaborn as sns"
   ]
  },
  {
   "cell_type": "code",
   "execution_count": null,
   "metadata": {
    "collapsed": false
   },
   "outputs": [],
   "source": [
    "trainX, testX, trainY, testY = train_test_split(raw_set.drop('Demand', axis = 1).fillna(0), raw_set['Demand'], test_size=0.33, random_state=42)\n",
    "scores = pd.DataFrame()\n",
    "raw_set = combined_LA17.append(combined_WA17.append(combined_FL17.append(combined_MO17.append(combined_NM17))))\n",
    "RF = RandomForestRegressor(n_estimators=4000, max_depth=None, min_samples_split=1.0, random_state=42)\n",
    "score = cross_val_score(RF, trainX, trainY,cv=5)\n",
    "\n"
   ]
  },
  {
   "cell_type": "code",
   "execution_count": null,
   "metadata": {
    "collapsed": false
   },
   "outputs": [],
   "source": [
    "score"
   ]
  },
  {
   "cell_type": "code",
   "execution_count": null,
   "metadata": {
    "collapsed": false
   },
   "outputs": [],
   "source": [
    "sns.set_context(\"talk\")\n",
    "sns.set_style(\"white\")\n",
    "\n",
    "sns.boxplot(np.matrix(scores))\n",
    "plt.xlabel(\"Number of trees\")\n",
    "plt.ylabel(\"Scores\")\n",
    "plt.title(\"The scores of the Random Forests for different number of trees.\")\n",
    "plt.xlim(0,41)\n",
    "plt.show()\n"
   ]
  },
  {
   "cell_type": "markdown",
   "metadata": {
    "collapsed": true
   },
   "source": [
    "### Option 4: Support Vector Regression"
   ]
  },
  {
   "cell_type": "code",
   "execution_count": 22,
   "metadata": {
    "collapsed": false
   },
   "outputs": [
    {
     "name": "stderr",
     "output_type": "stream",
     "text": [
      "C:\\Users\\joann\\Anaconda3\\lib\\site-packages\\sklearn\\grid_search.py:43: DeprecationWarning: This module was deprecated in version 0.18 in favor of the model_selection module into which all the refactored classes and functions are moved. This module will be removed in 0.20.\n",
      "  DeprecationWarning)\n",
      "C:\\Users\\joann\\Anaconda3\\lib\\site-packages\\IPython\\core\\interactiveshell.py:2881: FutureWarning: \n",
      "mpl_style had been deprecated and will be removed in a future version.\n",
      "Use `matplotlib.pyplot.style.use` instead.\n",
      "\n",
      "  exec(code_obj, self.user_global_ns, self.user_ns)\n"
     ]
    }
   ],
   "source": [
    "%matplotlib inline \n",
    "import numpy as np\n",
    "import pandas as pd\n",
    "import matplotlib.pyplot as plt\n",
    "from sklearn.svm import SVC\n",
    "from sklearn.svm import SVR\n",
    "from sklearn.grid_search import GridSearchCV\n",
    "from sklearn import cross_validation\n",
    "from sklearn import grid_search\n",
    "from sklearn.model_selection import StratifiedShuffleSplit\n",
    "\n",
    "pd.options.display.mpl_style = 'default'"
   ]
  },
  {
   "cell_type": "code",
   "execution_count": 23,
   "metadata": {
    "collapsed": true
   },
   "outputs": [],
   "source": [
    "raw_set = combined_LA17.append(combined_WA17.append(combined_FL17.append(combined_MO17.append(combined_NM17))))\n",
    "trainX, testX, trainY, testY = train_test_split(raw_set.drop('Demand', axis = 1).fillna(0), raw_set['Demand'], test_size=0.33, random_state=42)\n"
   ]
  },
  {
   "cell_type": "code",
   "execution_count": 35,
   "metadata": {
    "collapsed": false
   },
   "outputs": [
    {
     "name": "stdout",
     "output_type": "stream",
     "text": [
      "The test score R2 for SVR: 0.9660711034610555\n"
     ]
    }
   ],
   "source": [
    "\n",
    "# search for the best parameters with crossvalidation.\n",
    "#svr_elect = GridSearchCV(SVR(C=2000, gamma=0.01), param_grid = tuned_parameters, verbose = 0)\n",
    "sve_elect = SVR(C=2000, epsilon=0.2, gamma = 0.01)\n",
    "# Fit regression model\n",
    "y_elect = sve_elect.fit(trainX, trainY).predict(testX)\n",
    "print (\"The test score R2 for SVR: {}\".format (sve_elect.score(testX, testY)))\n"
   ]
  },
  {
   "cell_type": "code",
   "execution_count": 36,
   "metadata": {
    "collapsed": false
   },
   "outputs": [
    {
     "data": {
      "image/png": "[encoded data removed]",
      "text/plain": [
       "<matplotlib.figure.Figure at 0x24fe52e2e80>"
      ]
     },
     "metadata": {},
     "output_type": "display_data"
    }
   ],
   "source": [
    "#Plot time series of observed and predicted electricity demand over the testing period.\n",
    "fig = plt.figure(figsize=(15,7))\n",
    "plt.scatter(np.arange(len(testY.iloc[0:200])), testY.iloc[0:200], c='k', label='Observed')\n",
    "plt.plot(np.arange(len(testY.iloc[0:200])), y_elect[0:200], c='r', label='Predicted')\n",
    "plt.xlabel('data')\n",
    "plt.ylabel('target')\n",
    "plt.title('Support Vector Regression')\n",
    "plt.legend()\n",
    "plt.show()"
   ]
  },
  {
   "cell_type": "code",
   "execution_count": 37,
   "metadata": {
    "collapsed": false
   },
   "outputs": [
    {
     "data": {
      "text/plain": [
       "<matplotlib.text.Text at 0x24fe63fccf8>"
      ]
     },
     "execution_count": 37,
     "metadata": {},
     "output_type": "execute_result"
    },
    {
     "data": {
      "image/png": "[encoded data removed]",
      "text/plain": [
       "<matplotlib.figure.Figure at 0x24ff1f98e48>"
      ]
     },
     "metadata": {},
     "output_type": "display_data"
    }
   ],
   "source": [
    "#Plot Observed vs. predicted usage.\n",
    "fig = plt.figure(figsize=(6,6))\n",
    "plt.plot(testY, testY, c='k')\n",
    "plt.scatter(testY, y_elect, c='r')\n",
    "plt.xlabel('Observed Price')\n",
    "plt.ylabel(\"Predicted Price\")\n",
    "plt.title(\"Price vs Predicted Price: $Y_i$ vs $\\hat{Y}_i$\")"
   ]
  },
  {
   "cell_type": "code",
   "execution_count": 39,
   "metadata": {
    "collapsed": false
   },
   "outputs": [],
   "source": [
    "testX['predictedY'] = y_elect"
   ]
  },
  {
   "cell_type": "code",
   "execution_count": 40,
   "metadata": {
    "collapsed": true
   },
   "outputs": [],
   "source": [
    "testX.to_csv('predicted_demand.csv')"
   ]
  },
  {
   "cell_type": "code",
   "execution_count": null,
   "metadata": {
    "collapsed": true
   },
   "outputs": [],
   "source": []
  }
 ],
 "metadata": {
  "kernelspec": {
   "display_name": "Python 3",
   "language": "python",
   "name": "python3"
  },
  "language_info": {
   "codemirror_mode": {
    "name": "ipython",
    "version": 3
   },
   "file_extension": ".py",
   "mimetype": "text/x-python",
   "name": "python",
   "nbconvert_exporter": "python",
   "pygments_lexer": "ipython3",
   "version": "3.5.4"
  }
 },
 "nbformat": 4,
 "nbformat_minor": 2
}
